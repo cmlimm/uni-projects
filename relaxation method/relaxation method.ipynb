{
 "cells": [
  {
   "cell_type": "code",
   "execution_count": 1,
   "metadata": {},
   "outputs": [],
   "source": [
    "import numpy as np"
   ]
  },
  {
   "cell_type": "code",
   "execution_count": 6,
   "metadata": {},
   "outputs": [],
   "source": [
    "def relaxation(matrix, vector, initial, iterations):\n",
    "    result = initial\n",
    "    residual = vector - np.dot(matrix, initial)\n",
    "    id = np.identity(len(matrix))\n",
    "    for _ in range(iterations):\n",
    "        corr = np.argmax(np.abs(residual))\n",
    "        alpha = residual[corr]/matrix[corr][corr]\n",
    "        result = result + id[corr]*alpha\n",
    "        residual = residual - alpha*np.transpose(matrix)[corr] \n",
    "    return result"
   ]
  },
  {
   "cell_type": "code",
   "execution_count": 7,
   "metadata": {},
   "outputs": [],
   "source": [
    "matrix = np.array([[1, 0.42, 0.54, 0.66],\n",
    "                   [0.42, 1, 0.32, 0.44],\n",
    "                   [0.54, 0.32, 1, 0.22],\n",
    "                   [0.66, 0.44, 0.22, 1]])\n",
    "vector = np.array([0.3, 0.5, 0.7, 0.9])\n",
    "initial = np.array([0, 0, 0, 0])"
   ]
  },
  {
   "cell_type": "code",
   "execution_count": 14,
   "metadata": {},
   "outputs": [
    {
     "name": "stdout",
     "output_type": "stream",
     "text": [
      "[-1.25779361  0.04348739  1.03916615  1.48239278]\n",
      "[-1.25779375  0.0434873   1.03916625  1.48239288]\n"
     ]
    }
   ],
   "source": [
    "# ошибка уменьшается с увеличением количества итераций\n",
    "print(relaxation(matrix, vector, initial, 100))\n",
    "print(relaxation(matrix, vector, initial, 1000))"
   ]
  },
  {
   "cell_type": "code",
   "execution_count": 21,
   "metadata": {},
   "outputs": [
    {
     "name": "stdout",
     "output_type": "stream",
     "text": [
      "[-1.25779375  0.0434873   1.03916625  1.48239288]\n",
      "[-1.25779375  0.0434873   1.03916625  1.48239288]\n",
      "[ 8.88178420e-16 -6.93889390e-18  2.22044605e-16 -2.22044605e-16]\n"
     ]
    }
   ],
   "source": [
    "import numpy.linalg as la # проверяем решение\n",
    "numpy_solution = np.dot(la.inv(matrix), vector)\n",
    "my_solution = relaxation(matrix, vector, initial, 1000)\n",
    "print(numpy_solution)\n",
    "print(my_solution)\n",
    "print(numpy_solution - my_solution)"
   ]
  }
 ],
 "metadata": {
  "kernelspec": {
   "display_name": "Python 3",
   "language": "python",
   "name": "python3"
  },
  "language_info": {
   "codemirror_mode": {
    "name": "ipython",
    "version": 3
   },
   "file_extension": ".py",
   "mimetype": "text/x-python",
   "name": "python",
   "nbconvert_exporter": "python",
   "pygments_lexer": "ipython3",
   "version": "3.7.3"
  }
 },
 "nbformat": 4,
 "nbformat_minor": 4
}
