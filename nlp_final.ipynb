{
 "cells": [
  {
   "cell_type": "markdown",
   "metadata": {},
   "source": [
    "# Natural Language Processing | Задачи обработки естественного языка\n",
    "    > токенизация\n",
    "    > определение частей речи слов\n",
    "    > извлечение специальных названий\n",
    "    > синтаксический разбор предложений\n",
    "    > анализ тональности текста\n",
    "    > определение основных тем текста\n",
    "    > векторизация слов и предложений"
   ]
  },
  {
   "cell_type": "markdown",
   "metadata": {},
   "source": [
    "## Библиотека NLTK"
   ]
  },
  {
   "cell_type": "code",
   "execution_count": 1,
   "metadata": {},
   "outputs": [],
   "source": [
    "import nltk"
   ]
  },
  {
   "cell_type": "markdown",
   "metadata": {},
   "source": [
    "Возможности библиотеки:\n",
    "+ разбиение текста на предложения\n",
    "+ разбиение текста на слова\n",
    "+ разбиение предложений на слова\n",
    "+ определение частей речи предложения"
   ]
  },
  {
   "cell_type": "markdown",
   "metadata": {},
   "source": [
    " Разбиение текста на предложения:"
   ]
  },
  {
   "cell_type": "code",
   "execution_count": 2,
   "metadata": {},
   "outputs": [
    {
     "data": {
      "text/plain": [
       "['NLTK has been called a wonderful tool for teaching, working in computational linguistics using Python.',\n",
       " 'NLTK is an amazing library to play with natural language.',\n",
       " 'NLTK is a leading platform for building Python programs to work with human language data.',\n",
       " 'NLTL is really useful.']"
      ]
     },
     "execution_count": 2,
     "metadata": {},
     "output_type": "execute_result"
    }
   ],
   "source": [
    "text1 = \"NLTK has been called a wonderful tool for teaching, working in computational linguistics using Python. NLTK is an amazing library to play with natural language. NLTK is a leading platform for building Python programs to work with human language data. NLTL is really useful.\"\n",
    "nltk.sent_tokenize(text1)"
   ]
  },
  {
   "cell_type": "markdown",
   "metadata": {},
   "source": [
    "Разбиение текста на слова:"
   ]
  },
  {
   "cell_type": "code",
   "execution_count": 3,
   "metadata": {},
   "outputs": [
    {
     "data": {
      "text/plain": [
       "['NLTK',\n",
       " 'has',\n",
       " 'been',\n",
       " 'called',\n",
       " 'a',\n",
       " 'wonderful',\n",
       " 'tool',\n",
       " 'for',\n",
       " 'teaching',\n",
       " ',',\n",
       " 'working',\n",
       " 'in',\n",
       " 'computational',\n",
       " 'linguistics',\n",
       " 'using',\n",
       " 'Python',\n",
       " '.',\n",
       " 'NLTK',\n",
       " 'is',\n",
       " 'an',\n",
       " 'amazing',\n",
       " 'library',\n",
       " 'to',\n",
       " 'play',\n",
       " 'with',\n",
       " 'natural',\n",
       " 'language',\n",
       " '.',\n",
       " 'NLTK',\n",
       " 'is',\n",
       " 'a',\n",
       " 'leading',\n",
       " 'platform',\n",
       " 'for',\n",
       " 'building',\n",
       " 'Python',\n",
       " 'programs',\n",
       " 'to',\n",
       " 'work',\n",
       " 'with',\n",
       " 'human',\n",
       " 'language',\n",
       " 'data',\n",
       " '.',\n",
       " 'NLTL',\n",
       " 'is',\n",
       " 'really',\n",
       " 'useful',\n",
       " '.']"
      ]
     },
     "execution_count": 3,
     "metadata": {},
     "output_type": "execute_result"
    }
   ],
   "source": [
    "nltk.word_tokenize(text1)"
   ]
  },
  {
   "cell_type": "markdown",
   "metadata": {},
   "source": [
    "> Отчищаем данные от знаков препинания и стоп-слов"
   ]
  },
  {
   "cell_type": "code",
   "execution_count": 4,
   "metadata": {},
   "outputs": [],
   "source": [
    "import string\n",
    "from nltk.corpus import stopwords"
   ]
  },
  {
   "cell_type": "code",
   "execution_count": 5,
   "metadata": {},
   "outputs": [
    {
     "data": {
      "text/plain": [
       "['NLTK',\n",
       " 'called',\n",
       " 'wonderful',\n",
       " 'tool',\n",
       " 'teaching',\n",
       " 'working',\n",
       " 'computational',\n",
       " 'linguistics',\n",
       " 'using',\n",
       " 'Python',\n",
       " 'NLTK',\n",
       " 'amazing',\n",
       " 'library',\n",
       " 'play',\n",
       " 'natural',\n",
       " 'language',\n",
       " 'NLTK',\n",
       " 'leading',\n",
       " 'platform',\n",
       " 'building',\n",
       " 'Python',\n",
       " 'programs',\n",
       " 'work',\n",
       " 'human',\n",
       " 'language',\n",
       " 'data',\n",
       " 'NLTL',\n",
       " 'really',\n",
       " 'useful']"
      ]
     },
     "execution_count": 5,
     "metadata": {},
     "output_type": "execute_result"
    }
   ],
   "source": [
    "word_list = [i for i in nltk.word_tokenize(text1) if i not in string.punctuation and i not in stopwords.words('english')]\n",
    "word_list"
   ]
  },
  {
   "cell_type": "markdown",
   "metadata": {},
   "source": [
    "Нахождение слов с наибольшими частотами:"
   ]
  },
  {
   "cell_type": "code",
   "execution_count": 6,
   "metadata": {},
   "outputs": [
    {
     "data": {
      "text/plain": [
       "[('NLTK', 3), ('Python', 2)]"
      ]
     },
     "execution_count": 6,
     "metadata": {},
     "output_type": "execute_result"
    }
   ],
   "source": [
    "freq_list = nltk.FreqDist(word_list)\n",
    "freq_list.most_common(2)"
   ]
  },
  {
   "cell_type": "markdown",
   "metadata": {},
   "source": [
    "Разбиение текста на предложения и слова:"
   ]
  },
  {
   "cell_type": "code",
   "execution_count": 7,
   "metadata": {},
   "outputs": [
    {
     "data": {
      "text/plain": [
       "[['Natural',\n",
       "  'Language',\n",
       "  'Processing',\n",
       "  'is',\n",
       "  'manipulation',\n",
       "  'or',\n",
       "  'understanding',\n",
       "  'text',\n",
       "  'or',\n",
       "  'speech',\n",
       "  'by',\n",
       "  'any',\n",
       "  'software',\n",
       "  'or',\n",
       "  'machine',\n",
       "  '.'],\n",
       " ['An',\n",
       "  'analogy',\n",
       "  'is',\n",
       "  'that',\n",
       "  'humans',\n",
       "  'interact',\n",
       "  ',',\n",
       "  'understand',\n",
       "  'each',\n",
       "  'other',\n",
       "  'views',\n",
       "  ',',\n",
       "  'and',\n",
       "  'respond',\n",
       "  'with',\n",
       "  'the',\n",
       "  'appropriate',\n",
       "  'answer',\n",
       "  '.'],\n",
       " ['In',\n",
       "  'NLP',\n",
       "  ',',\n",
       "  'this',\n",
       "  'interaction',\n",
       "  ',',\n",
       "  'understanding',\n",
       "  ',',\n",
       "  'the',\n",
       "  'response',\n",
       "  'is',\n",
       "  'made',\n",
       "  'by',\n",
       "  'a',\n",
       "  'computer',\n",
       "  'instead',\n",
       "  'of',\n",
       "  'a',\n",
       "  'human',\n",
       "  '.']]"
      ]
     },
     "execution_count": 7,
     "metadata": {},
     "output_type": "execute_result"
    }
   ],
   "source": [
    "text2 = \"Natural Language Processing is manipulation or understanding text or speech by any software or machine. An analogy is that humans interact, understand each other views, and respond with the appropriate answer. In NLP, this interaction, understanding, the response is made by a computer instead of a human.\"\n",
    "s = [nltk.word_tokenize(i) for i in nltk.sent_tokenize(text2)]\n",
    "s"
   ]
  },
  {
   "cell_type": "markdown",
   "metadata": {},
   "source": [
    "Определение частей речи слов предложения:"
   ]
  },
  {
   "cell_type": "code",
   "execution_count": 8,
   "metadata": {},
   "outputs": [
    {
     "data": {
      "text/plain": [
       "[[('Natural', 'JJ'),\n",
       "  ('Language', 'NNP'),\n",
       "  ('Processing', 'NNP'),\n",
       "  ('is', 'VBZ'),\n",
       "  ('manipulation', 'NN'),\n",
       "  ('or', 'CC'),\n",
       "  ('understanding', 'JJ'),\n",
       "  ('text', 'NN'),\n",
       "  ('or', 'CC'),\n",
       "  ('speech', 'NN'),\n",
       "  ('by', 'IN'),\n",
       "  ('any', 'DT'),\n",
       "  ('software', 'NN'),\n",
       "  ('or', 'CC'),\n",
       "  ('machine', 'NN'),\n",
       "  ('.', '.')],\n",
       " [('An', 'DT'),\n",
       "  ('analogy', 'NN'),\n",
       "  ('is', 'VBZ'),\n",
       "  ('that', 'IN'),\n",
       "  ('humans', 'NNS'),\n",
       "  ('interact', 'JJ'),\n",
       "  (',', ','),\n",
       "  ('understand', 'JJ'),\n",
       "  ('each', 'DT'),\n",
       "  ('other', 'JJ'),\n",
       "  ('views', 'NNS'),\n",
       "  (',', ','),\n",
       "  ('and', 'CC'),\n",
       "  ('respond', 'NN'),\n",
       "  ('with', 'IN'),\n",
       "  ('the', 'DT'),\n",
       "  ('appropriate', 'JJ'),\n",
       "  ('answer', 'NN'),\n",
       "  ('.', '.')],\n",
       " [('In', 'IN'),\n",
       "  ('NLP', 'NNP'),\n",
       "  (',', ','),\n",
       "  ('this', 'DT'),\n",
       "  ('interaction', 'NN'),\n",
       "  (',', ','),\n",
       "  ('understanding', 'NN'),\n",
       "  (',', ','),\n",
       "  ('the', 'DT'),\n",
       "  ('response', 'NN'),\n",
       "  ('is', 'VBZ'),\n",
       "  ('made', 'VBN'),\n",
       "  ('by', 'IN'),\n",
       "  ('a', 'DT'),\n",
       "  ('computer', 'NN'),\n",
       "  ('instead', 'RB'),\n",
       "  ('of', 'IN'),\n",
       "  ('a', 'DT'),\n",
       "  ('human', 'JJ'),\n",
       "  ('.', '.')]]"
      ]
     },
     "execution_count": 8,
     "metadata": {},
     "output_type": "execute_result"
    }
   ],
   "source": [
    "nltk.pos_tag_sents(s)"
   ]
  },
  {
   "cell_type": "markdown",
   "metadata": {},
   "source": [
    ">Теги:\n",
    "https://www.ling.upenn.edu/courses/Fall_2003/ling001/penn_treebank_pos.html"
   ]
  },
  {
   "cell_type": "markdown",
   "metadata": {},
   "source": [
    "Нахождение основы слова:"
   ]
  },
  {
   "cell_type": "code",
   "execution_count": 9,
   "metadata": {},
   "outputs": [],
   "source": [
    "from nltk.stem.snowball import SnowballStemmer "
   ]
  },
  {
   "cell_type": "code",
   "execution_count": 10,
   "metadata": {},
   "outputs": [
    {
     "data": {
      "text/plain": [
       "'васил'"
      ]
     },
     "execution_count": 10,
     "metadata": {},
     "output_type": "execute_result"
    }
   ],
   "source": [
    "stemmer = SnowballStemmer(\"russian\") \n",
    "stemmer.stem(\"Василий\")"
   ]
  },
  {
   "cell_type": "markdown",
   "metadata": {},
   "source": [
    "## Морфологический анализатор pymorphy2"
   ]
  },
  {
   "cell_type": "code",
   "execution_count": 11,
   "metadata": {},
   "outputs": [],
   "source": [
    "import pymorphy2\n",
    "morph = pymorphy2.MorphAnalyzer()"
   ]
  },
  {
   "cell_type": "markdown",
   "metadata": {},
   "source": [
    " Возможности библиотеки:\n",
    " + морфологический разбор слов\n",
    " + нахождение инфинитивов слов\n",
    " + приведение слов к нужной форме\n",
    " + нахождение всех форм слова"
   ]
  },
  {
   "cell_type": "markdown",
   "metadata": {},
   "source": [
    "Морфологический разбор слова:"
   ]
  },
  {
   "cell_type": "code",
   "execution_count": 12,
   "metadata": {},
   "outputs": [],
   "source": [
    "def show(parse):\n",
    "    print(parse.word, ' -> ', parse.normal_form, parse.tag.cyr_repr )"
   ]
  },
  {
   "cell_type": "code",
   "execution_count": 13,
   "metadata": {},
   "outputs": [
    {
     "name": "stdout",
     "output_type": "stream",
     "text": [
      "стали  ->  стать ГЛ,сов,неперех мн,прош,изъяв\n",
      "стали  ->  сталь СУЩ,неод,жр ед,рд\n",
      "стали  ->  сталь СУЩ,неод,жр ед,дт\n",
      "стали  ->  сталь СУЩ,неод,жр ед,пр\n",
      "стали  ->  сталь СУЩ,неод,жр мн,им\n",
      "стали  ->  сталь СУЩ,неод,жр мн,вн\n"
     ]
    }
   ],
   "source": [
    "for i in morph.parse('стали'):\n",
    "    show(i)"
   ]
  },
  {
   "cell_type": "markdown",
   "metadata": {},
   "source": [
    "Нахождение начальной формы слова:"
   ]
  },
  {
   "cell_type": "code",
   "execution_count": 14,
   "metadata": {
    "scrolled": true
   },
   "outputs": [
    {
     "data": {
      "text/plain": [
       "'бегать'"
      ]
     },
     "execution_count": 14,
     "metadata": {},
     "output_type": "execute_result"
    }
   ],
   "source": [
    "word = morph.parse('бегала')[0]\n",
    "word.normal_form"
   ]
  },
  {
   "cell_type": "markdown",
   "metadata": {},
   "source": [
    "Работа с тегами:"
   ]
  },
  {
   "cell_type": "code",
   "execution_count": 15,
   "metadata": {},
   "outputs": [
    {
     "data": {
      "text/plain": [
       "'ГЛ,несов,неперех жр,ед,прош,изъяв'"
      ]
     },
     "execution_count": 15,
     "metadata": {},
     "output_type": "execute_result"
    }
   ],
   "source": [
    " word.tag.cyr_repr"
   ]
  },
  {
   "cell_type": "markdown",
   "metadata": {},
   "source": [
    "Обращение к атрибутам тегов:"
   ]
  },
  {
   "cell_type": "markdown",
   "metadata": {},
   "source": [
    "> атрибуты помогают получить информацию о части речи, числе и других характеристиках слова"
   ]
  },
  {
   "cell_type": "code",
   "execution_count": 16,
   "metadata": {},
   "outputs": [
    {
     "data": {
      "text/plain": [
       "'VERB'"
      ]
     },
     "execution_count": 16,
     "metadata": {},
     "output_type": "execute_result"
    }
   ],
   "source": [
    "word.tag.POS "
   ]
  },
  {
   "cell_type": "code",
   "execution_count": 17,
   "metadata": {},
   "outputs": [
    {
     "data": {
      "text/plain": [
       "'femn'"
      ]
     },
     "execution_count": 17,
     "metadata": {},
     "output_type": "execute_result"
    }
   ],
   "source": [
    "word.tag.gender "
   ]
  },
  {
   "cell_type": "code",
   "execution_count": 18,
   "metadata": {},
   "outputs": [
    {
     "data": {
      "text/plain": [
       "'past'"
      ]
     },
     "execution_count": 18,
     "metadata": {},
     "output_type": "execute_result"
    }
   ],
   "source": [
    "word.tag.tense"
   ]
  },
  {
   "cell_type": "code",
   "execution_count": 19,
   "metadata": {},
   "outputs": [
    {
     "data": {
      "text/plain": [
       "True"
      ]
     },
     "execution_count": 19,
     "metadata": {},
     "output_type": "execute_result"
    }
   ],
   "source": [
    "'VERB' in word.tag.POS "
   ]
  },
  {
   "cell_type": "markdown",
   "metadata": {},
   "source": [
    "Нахождение всех форм слова:"
   ]
  },
  {
   "cell_type": "code",
   "execution_count": 20,
   "metadata": {},
   "outputs": [],
   "source": [
    "def all_forms(parsers):\n",
    "    lst=[]\n",
    "    for p in parsers:\n",
    "        lst.append(p.word)\n",
    "    return lst"
   ]
  },
  {
   "cell_type": "code",
   "execution_count": 21,
   "metadata": {},
   "outputs": [
    {
     "data": {
      "text/plain": [
       "['спать',\n",
       " 'сплю',\n",
       " 'спим',\n",
       " 'спишь',\n",
       " 'спите',\n",
       " 'спит',\n",
       " 'спят',\n",
       " 'спал',\n",
       " 'спала',\n",
       " 'спало',\n",
       " 'спали',\n",
       " 'спи',\n",
       " 'спите',\n",
       " 'спящий',\n",
       " 'спящего',\n",
       " 'спящему',\n",
       " 'спящего',\n",
       " 'спящий',\n",
       " 'спящим',\n",
       " 'спящем',\n",
       " 'спящая',\n",
       " 'спящей',\n",
       " 'спящей',\n",
       " 'спящую',\n",
       " 'спящей',\n",
       " 'спящею',\n",
       " 'спящей',\n",
       " 'спящее',\n",
       " 'спящего',\n",
       " 'спящему',\n",
       " 'спящее',\n",
       " 'спящим',\n",
       " 'спящем',\n",
       " 'спящие',\n",
       " 'спящих',\n",
       " 'спящим',\n",
       " 'спящих',\n",
       " 'спящие',\n",
       " 'спящими',\n",
       " 'спящих',\n",
       " 'спавший',\n",
       " 'спавшего',\n",
       " 'спавшему',\n",
       " 'спавшего',\n",
       " 'спавший',\n",
       " 'спавшим',\n",
       " 'спавшем',\n",
       " 'спавшая',\n",
       " 'спавшей',\n",
       " 'спавшей',\n",
       " 'спавшую',\n",
       " 'спавшей',\n",
       " 'спавшею',\n",
       " 'спавшей',\n",
       " 'спавшее',\n",
       " 'спавшего',\n",
       " 'спавшему',\n",
       " 'спавшее',\n",
       " 'спавшим',\n",
       " 'спавшем',\n",
       " 'спавшие',\n",
       " 'спавших',\n",
       " 'спавшим',\n",
       " 'спавших',\n",
       " 'спавшие',\n",
       " 'спавшими',\n",
       " 'спавших',\n",
       " 'спав',\n",
       " 'спавши']"
      ]
     },
     "execution_count": 21,
     "metadata": {},
     "output_type": "execute_result"
    }
   ],
   "source": [
    "all_forms(morph.parse('спать')[0].lexeme)"
   ]
  },
  {
   "cell_type": "markdown",
   "metadata": {},
   "source": [
    "Согласование слов с числительными:"
   ]
  },
  {
   "cell_type": "code",
   "execution_count": 22,
   "metadata": {},
   "outputs": [
    {
     "data": {
      "text/plain": [
       "'апельсинов'"
      ]
     },
     "execution_count": 22,
     "metadata": {},
     "output_type": "execute_result"
    }
   ],
   "source": [
    "w = morph.parse('апельсин')[0]\n",
    "w.make_agree_with_number(5).word"
   ]
  },
  {
   "cell_type": "markdown",
   "metadata": {},
   "source": [
    "### Задание 1"
   ]
  },
  {
   "cell_type": "markdown",
   "metadata": {},
   "source": [
    "Дан текст отзыва покупателя, используя библиотеку nltk, проанализируйте характер отзыва"
   ]
  },
  {
   "cell_type": "code",
   "execution_count": 23,
   "metadata": {},
   "outputs": [],
   "source": [
    "text = \"In my head, a review about the M. Video store chain has long been ripening. Since the very time when I again faced with the problem of returning money for a certificate of the Additional Services Program. I already wrote a review about the work of Eldorado, in fact, faced with the same problem, but for the first time. True, in Eldorado this lure is called the Additional Service Program, but the difference is small. Actually, to this day I think that M-video is a bad store, but due to the small selection of those in the city, sometimes I still get something there. pah-pah, while it works. However, today I want to share my opinion about M. Video. I will tell you about all the problems of this place. This is the second largest electronics store that we have in the city. A wide range of products is presented here, although it is often impossible to find a specific model. The store has promotions, discounts, a system of accumulative bonuses, credit purchases and other rubbish, which is called a service. However, there are many problems with all promotions. Once again, we got into such a bad situation. Firstly, the service in the store was terrible. And the quality of the goods was bad. Two years ago, they threw themselves off, threw themselves in and presented mom with a new TV set that had broken. It was very disappointing that the TV broke down, since we paid a huge amount for it. Not a single visit ended without a problem. However, when they bought Dad, they again drew this one and imposed the acquisition of a certificate of the Additional Services Program. So roughly (this is a copy) this stucco looks and costs decent money. The attraction is that at the end of the certificate validity period, money for unused services will be returned. But all this lies, with a certificate you get even more problems! Do not believe in stocks and do not go to stores with a bad reputation, do not create problems for yourself!\""
   ]
  },
  {
   "cell_type": "code",
   "execution_count": null,
   "metadata": {},
   "outputs": [],
   "source": []
  },
  {
   "cell_type": "markdown",
   "metadata": {},
   "source": [
    "### Задание 2"
   ]
  },
  {
   "cell_type": "markdown",
   "metadata": {},
   "source": [
    "Используя библиотеки nltk и pymorphy2, определите, какую части речи в стихах чаще всего употребляют \n",
    "в стихах следующие авторы"
   ]
  },
  {
   "cell_type": "code",
   "execution_count": 24,
   "metadata": {},
   "outputs": [],
   "source": [
    "Pushkin = '''\n",
    "Мороз и солнце; день чудесный!\n",
    "Еще ты дремлешь, друг прелестный —\n",
    "Пора, красавица, проснись:\n",
    "Открой сомкнуты негой взоры\n",
    "Навстречу северной Авроры,\n",
    "Звездою севера явись!\n",
    "\n",
    "Вечор, ты помнишь, вьюга злилась,\n",
    "На мутном небе мгла носилась;\n",
    "Луна, как бледное пятно,\n",
    "Сквозь тучи мрачные желтела,\n",
    "И ты печальная сидела —\n",
    "А нынче погляди в окно:\n",
    "\n",
    "Под голубыми небесами\n",
    "Великолепными коврами,\n",
    "Блестя на солнце, снег лежит;\n",
    "Прозрачный лес один чернеет,\n",
    "И ель сквозь иней зеленеет,\n",
    "И речка подо льдом блестит.\n",
    "'''\n",
    "\n",
    "Mayakovsky = '''\n",
    "Послушайте!\n",
    "Ведь, если звезды зажигают —\n",
    "значит — это кому-нибудь нужно?\n",
    "Значит — кто-то хочет, чтобы они были?\n",
    "Значит — кто-то называет эти плевочки\n",
    "\n",
    "жемчужиной?\n",
    "И, надрываясь\n",
    "в метелях полуденной пыли,\n",
    "врывается к богу,\n",
    "боится, что опоздал,\n",
    "плачет,\n",
    "целует ему жилистую руку,\n",
    "просит —\n",
    "чтоб обязательно была звезда! —\n",
    "клянется —\n",
    "не перенесет эту беззвездную муку!\n",
    "А после\n",
    "ходит тревожный,\n",
    "но спокойный наружно.\n",
    "Говорит кому-то:\n",
    "«Ведь теперь тебе ничего?\n",
    "Не страшно?\n",
    "Да?!»\n",
    "Послушайте!\n",
    "Ведь, если звезды\n",
    "зажигают —\n",
    "значит — это кому-нибудь нужно?\n",
    "Значит — это необходимо,\n",
    "чтобы каждый вечер\n",
    "над крышами\n",
    "загоралась хоть одна звезда?!\n",
    "'''\n",
    "\n",
    "Lermontov = '''\n",
    "Сквозь волнистые туманы\n",
    "Пробирается луна,\n",
    "На печальные поляны\n",
    "Льет печально свет одна.\n",
    "По дороге зимней, скучной\n",
    "Тройка борзая бежит,\n",
    "Колокольчик однозвучный\n",
    "Утомительно гремит.\n",
    "Что-то слышится родное\n",
    "В долгих песнях ямщика:\n",
    "То разгулье удалое,\n",
    "То сердечная тоска.\n",
    "'''\n",
    "\n"
   ]
  },
  {
   "cell_type": "markdown",
   "metadata": {},
   "source": [
    "## Библиотеки Gensim (dictionary, corpus, tf-idf, LDA, word2vec), spacy (лемматизация)"
   ]
  },
  {
   "cell_type": "code",
   "execution_count": 25,
   "metadata": {},
   "outputs": [],
   "source": [
    "import gensim"
   ]
  },
  {
   "cell_type": "markdown",
   "metadata": {},
   "source": [
    "Возможности библиотеки:\n",
    "+ создание словаря и корпуса по заданному документу\n",
    "+ создание биграмм и триграмм\n",
    "+ создание матрицы TFIDF\n",
    "+ создание тематических моделей/выделение ключевых слов\n",
    "+ векторизация слов и предложений"
   ]
  },
  {
   "cell_type": "markdown",
   "metadata": {},
   "source": [
    "### Создание словаря по заданному документу:"
   ]
  },
  {
   "cell_type": "code",
   "execution_count": 26,
   "metadata": {},
   "outputs": [],
   "source": [
    "with open('sample_text.txt', 'r') as file:\n",
    "    sample_text = file.read()\n",
    "sample_text = nltk.sent_tokenize(sample_text)"
   ]
  },
  {
   "cell_type": "code",
   "execution_count": 27,
   "metadata": {},
   "outputs": [],
   "source": [
    "from gensim.utils import simple_preprocess\n",
    "\n",
    "\n",
    "def remove_stopwords(words):\n",
    "    return [word for word in words if word not in stopwords.words('english')]\n",
    "\n",
    "def prepare_text(text):\n",
    "    return [remove_stopwords(gensim.utils.simple_preprocess(str(sentence), deacc=True)) \\\n",
    "               for sentence in text]"
   ]
  },
  {
   "cell_type": "code",
   "execution_count": 28,
   "metadata": {},
   "outputs": [
    {
     "data": {
      "text/plain": [
       "[['ultra',\n",
       "  'fast',\n",
       "  'wi',\n",
       "  'fi',\n",
       "  'nears',\n",
       "  'completion',\n",
       "  'ultra',\n",
       "  'high',\n",
       "  'speed',\n",
       "  'wi',\n",
       "  'fi',\n",
       "  'connections',\n",
       "  'moved',\n",
       "  'closer',\n",
       "  'reality',\n",
       "  'thursday',\n",
       "  'intel',\n",
       "  'said',\n",
       "  'would',\n",
       "  'list',\n",
       "  'standards',\n",
       "  'technology',\n",
       "  'later',\n",
       "  'year'],\n",
       " ['intel',\n",
       "  'developing',\n",
       "  'ultra',\n",
       "  'wideband',\n",
       "  'technology',\n",
       "  'uwb',\n",
       "  'would',\n",
       "  'allow',\n",
       "  'fast',\n",
       "  'data',\n",
       "  'transfer',\n",
       "  'low',\n",
       "  'power',\n",
       "  'needs'],\n",
       " ['uwb',\n",
       "  'tipped',\n",
       "  'used',\n",
       "  'wireless',\n",
       "  'transfer',\n",
       "  'video',\n",
       "  'home',\n",
       "  'office',\n",
       "  'use',\n",
       "  'wireless',\n",
       "  'usb',\n",
       "  'devices',\n",
       "  'need',\n",
       "  'low',\n",
       "  'power',\n",
       "  'consumption'],\n",
       " ['rival',\n",
       "  'uwb',\n",
       "  'standard',\n",
       "  'developed',\n",
       "  'motorola',\n",
       "  'chip',\n",
       "  'firm',\n",
       "  'freescale'],\n",
       " ['mobile',\n",
       "  'phone',\n",
       "  'conference',\n",
       "  'gsm',\n",
       "  'cannes',\n",
       "  'last',\n",
       "  'month',\n",
       "  'samsung',\n",
       "  'demonstrated',\n",
       "  'phone',\n",
       "  'using',\n",
       "  'uwb',\n",
       "  'technology',\n",
       "  'freescale'],\n",
       " ['press',\n",
       "  'conference',\n",
       "  'thursday',\n",
       "  'intel',\n",
       "  'announced',\n",
       "  'two',\n",
       "  'uwb',\n",
       "  'groups',\n",
       "  'wimedia',\n",
       "  'alliance',\n",
       "  'multi',\n",
       "  'band',\n",
       "  'ofdm',\n",
       "  'alliance',\n",
       "  'merged',\n",
       "  'support',\n",
       "  'technology'],\n",
       " ['uwb',\n",
       "  'makes',\n",
       "  'possible',\n",
       "  'stream',\n",
       "  'huge',\n",
       "  'amounts',\n",
       "  'data',\n",
       "  'air',\n",
       "  'short',\n",
       "  'distances'],\n",
       " ['one',\n",
       "  'likely',\n",
       "  'uses',\n",
       "  'uwb',\n",
       "  'make',\n",
       "  'possible',\n",
       "  'send',\n",
       "  'dvd',\n",
       "  'quality',\n",
       "  'video',\n",
       "  'images',\n",
       "  'wirelessly',\n",
       "  'tv',\n",
       "  'screens',\n",
       "  'let',\n",
       "  'people',\n",
       "  'beam',\n",
       "  'music',\n",
       "  'media',\n",
       "  'players',\n",
       "  'around',\n",
       "  'home'],\n",
       " ['technology',\n",
       "  'potential',\n",
       "  'transmit',\n",
       "  'hundreds',\n",
       "  'megabits',\n",
       "  'data',\n",
       "  'per',\n",
       "  'second'],\n",
       " ['consumer',\n",
       "  'electronics',\n",
       "  'companies',\n",
       "  'want',\n",
       "  'uwb',\n",
       "  'replace',\n",
       "  'cables',\n",
       "  'simplify',\n",
       "  'set',\n",
       "  'jeff',\n",
       "  'ravencraft',\n",
       "  'technology',\n",
       "  'strategist',\n",
       "  'intel',\n",
       "  'chairman',\n",
       "  'wireless',\n",
       "  'usb',\n",
       "  'promoter',\n",
       "  'group',\n",
       "  'told',\n",
       "  'technology',\n",
       "  'site',\n",
       "  'zdnet'],\n",
       " ['thirty',\n",
       "  'percent',\n",
       "  'consumer',\n",
       "  'electronics',\n",
       "  'returns',\n",
       "  'consumer',\n",
       "  'set',\n",
       "  'equipment'],\n",
       " ['first',\n",
       "  'products',\n",
       "  'using',\n",
       "  'uwb',\n",
       "  'technology',\n",
       "  'intel',\n",
       "  'due',\n",
       "  'hit',\n",
       "  'market',\n",
       "  'later',\n",
       "  'year'],\n",
       " ['initially', 'products', 'using', 'wireless', 'usb', 'connections'],\n",
       " ['uwb',\n",
       "  'could',\n",
       "  'also',\n",
       "  'used',\n",
       "  'create',\n",
       "  'called',\n",
       "  'personal',\n",
       "  'area',\n",
       "  'networks',\n",
       "  'let',\n",
       "  'person',\n",
       "  'gadgets',\n",
       "  'quickly',\n",
       "  'easily',\n",
       "  'swap',\n",
       "  'data',\n",
       "  'amongst'],\n",
       " ['technology',\n",
       "  'works',\n",
       "  'range',\n",
       "  'metres',\n",
       "  'uses',\n",
       "  'billions',\n",
       "  'short',\n",
       "  'radio',\n",
       "  'pulses',\n",
       "  'every',\n",
       "  'second',\n",
       "  'carry',\n",
       "  'data'],\n",
       " ['intel',\n",
       "  'says',\n",
       "  'benefit',\n",
       "  'uwb',\n",
       "  'interfere',\n",
       "  'wi',\n",
       "  'fi',\n",
       "  'technologies',\n",
       "  'already',\n",
       "  'use',\n",
       "  'wi',\n",
       "  'fi',\n",
       "  'wimax',\n",
       "  'mobile',\n",
       "  'phone',\n",
       "  'networks']]"
      ]
     },
     "execution_count": 28,
     "metadata": {},
     "output_type": "execute_result"
    }
   ],
   "source": [
    "sample_text = prepare_text(sample_text)\n",
    "sample_text"
   ]
  },
  {
   "cell_type": "code",
   "execution_count": 29,
   "metadata": {},
   "outputs": [],
   "source": [
    "from gensim import corpora\n",
    "sample_dictionary = corpora.Dictionary(sample_text)"
   ]
  },
  {
   "cell_type": "code",
   "execution_count": 30,
   "metadata": {},
   "outputs": [
    {
     "name": "stdout",
     "output_type": "stream",
     "text": [
      "Dictionary(155 unique tokens: ['closer', 'completion', 'connections', 'fast', 'fi']...)\n",
      "{'closer': 0, 'completion': 1, 'connections': 2, 'fast': 3, 'fi': 4, 'high': 5, 'intel': 6, 'later': 7, 'list': 8, 'moved': 9, 'nears': 10, 'reality': 11, 'said': 12, 'speed': 13, 'standards': 14, 'technology': 15, 'thursday': 16, 'ultra': 17, 'wi': 18, 'would': 19, 'year': 20, 'allow': 21, 'data': 22, 'developing': 23, 'low': 24, 'needs': 25, 'power': 26, 'transfer': 27, 'uwb': 28, 'wideband': 29, 'consumption': 30, 'devices': 31, 'home': 32, 'need': 33, 'office': 34, 'tipped': 35, 'usb': 36, 'use': 37, 'used': 38, 'video': 39, 'wireless': 40, 'chip': 41, 'developed': 42, 'firm': 43, 'freescale': 44, 'motorola': 45, 'rival': 46, 'standard': 47, 'cannes': 48, 'conference': 49, 'demonstrated': 50, 'gsm': 51, 'last': 52, 'mobile': 53, 'month': 54, 'phone': 55, 'samsung': 56, 'using': 57, 'alliance': 58, 'announced': 59, 'band': 60, 'groups': 61, 'merged': 62, 'multi': 63, 'ofdm': 64, 'press': 65, 'support': 66, 'two': 67, 'wimedia': 68, 'air': 69, 'amounts': 70, 'distances': 71, 'huge': 72, 'makes': 73, 'possible': 74, 'short': 75, 'stream': 76, 'around': 77, 'beam': 78, 'dvd': 79, 'images': 80, 'let': 81, 'likely': 82, 'make': 83, 'media': 84, 'music': 85, 'one': 86, 'people': 87, 'players': 88, 'quality': 89, 'screens': 90, 'send': 91, 'tv': 92, 'uses': 93, 'wirelessly': 94, 'hundreds': 95, 'megabits': 96, 'per': 97, 'potential': 98, 'second': 99, 'transmit': 100, 'cables': 101, 'chairman': 102, 'companies': 103, 'consumer': 104, 'electronics': 105, 'group': 106, 'jeff': 107, 'promoter': 108, 'ravencraft': 109, 'replace': 110, 'set': 111, 'simplify': 112, 'site': 113, 'strategist': 114, 'told': 115, 'want': 116, 'zdnet': 117, 'equipment': 118, 'percent': 119, 'returns': 120, 'thirty': 121, 'due': 122, 'first': 123, 'hit': 124, 'market': 125, 'products': 126, 'initially': 127, 'also': 128, 'amongst': 129, 'area': 130, 'called': 131, 'could': 132, 'create': 133, 'easily': 134, 'gadgets': 135, 'networks': 136, 'person': 137, 'personal': 138, 'quickly': 139, 'swap': 140, 'billions': 141, 'carry': 142, 'every': 143, 'metres': 144, 'pulses': 145, 'radio': 146, 'range': 147, 'works': 148, 'already': 149, 'benefit': 150, 'interfere': 151, 'says': 152, 'technologies': 153, 'wimax': 154}\n"
     ]
    }
   ],
   "source": [
    "print(sample_dictionary)\n",
    "print(sample_dictionary.token2id)"
   ]
  },
  {
   "cell_type": "markdown",
   "metadata": {},
   "source": [
    "### Создание корпуса по заданному документу:"
   ]
  },
  {
   "cell_type": "code",
   "execution_count": 31,
   "metadata": {},
   "outputs": [],
   "source": [
    "sample_text_corpus = [\"Help me get my feet back on the ground\",\n",
    "                      \"Won't you please, please help me?\",\n",
    "                      \"Help me? Help me?\"]\n",
    "sample_text_corpus = [simple_preprocess(sent) for sent in sample_text_corpus]"
   ]
  },
  {
   "cell_type": "code",
   "execution_count": 32,
   "metadata": {},
   "outputs": [
    {
     "data": {
      "text/plain": [
       "[[(0, 1), (1, 1), (2, 1), (3, 1), (4, 1), (5, 1), (6, 1), (7, 1), (8, 1)],\n",
       " [(4, 1), (5, 1), (9, 2), (10, 1), (11, 1)],\n",
       " [(4, 2), (5, 2)]]"
      ]
     },
     "execution_count": 32,
     "metadata": {},
     "output_type": "execute_result"
    }
   ],
   "source": [
    "sample_dictionary_corpus = corpora.Dictionary(sample_text_corpus)\n",
    "sample_corpus = [sample_dictionary_corpus.doc2bow(sent, allow_update=True) for sent in sample_text_corpus]\n",
    "sample_corpus"
   ]
  },
  {
   "cell_type": "code",
   "execution_count": 33,
   "metadata": {},
   "outputs": [
    {
     "data": {
      "text/plain": [
       "[[('back', 1),\n",
       "  ('feet', 1),\n",
       "  ('get', 1),\n",
       "  ('ground', 1),\n",
       "  ('help', 1),\n",
       "  ('me', 1),\n",
       "  ('my', 1),\n",
       "  ('on', 1),\n",
       "  ('the', 1)],\n",
       " [('help', 1), ('me', 1), ('please', 2), ('won', 1), ('you', 1)],\n",
       " [('help', 2), ('me', 2)]]"
      ]
     },
     "execution_count": 33,
     "metadata": {},
     "output_type": "execute_result"
    }
   ],
   "source": [
    "def decipher(dictionary, corpus):\n",
    "    return [[(dictionary[num], round(count, 2)) for num, count in line] for line in corpus]\n",
    "\n",
    "decipher(sample_dictionary_corpus, sample_corpus)"
   ]
  },
  {
   "cell_type": "markdown",
   "metadata": {},
   "source": [
    "### Сохранение и импорт словарей и корпусов:"
   ]
  },
  {
   "cell_type": "code",
   "execution_count": 34,
   "metadata": {},
   "outputs": [
    {
     "name": "stdout",
     "output_type": "stream",
     "text": [
      "Dictionary(155 unique tokens: ['closer', 'completion', 'connections', 'fast', 'fi']...)\n"
     ]
    }
   ],
   "source": [
    "sample_dictionary.save('sample_dictionary.dict')\n",
    "loaded_sample_dictionary = corpora.Dictionary.load('sample_dictionary.dict')\n",
    "print(loaded_sample_dictionary)"
   ]
  },
  {
   "cell_type": "code",
   "execution_count": 35,
   "metadata": {},
   "outputs": [
    {
     "data": {
      "text/plain": [
       "[[(0, 1), (1, 1), (2, 1), (3, 1), (4, 1), (5, 1), (6, 1), (7, 1), (8, 1)],\n",
       " [(4, 1), (5, 1), (9, 2), (10, 1), (11, 1)],\n",
       " [(4, 2), (5, 2)]]"
      ]
     },
     "execution_count": 35,
     "metadata": {},
     "output_type": "execute_result"
    }
   ],
   "source": [
    "corpora.MmCorpus.serialize('sample_corpus.mm', sample_corpus)\n",
    "loaded_sample_corpus = [[(num, int(count))for num, count in line] for line in corpora.MmCorpus('sample_corpus.mm')]\n",
    "loaded_sample_corpus"
   ]
  },
  {
   "cell_type": "markdown",
   "metadata": {},
   "source": [
    "### Создание биграмм и триграмм:"
   ]
  },
  {
   "cell_type": "code",
   "execution_count": 36,
   "metadata": {},
   "outputs": [
    {
     "name": "stdout",
     "output_type": "stream",
     "text": [
      "[['ultra', 'fast', 'wi_fi', 'nears', 'completion', 'ultra', 'high', 'speed', 'wi_fi', 'connections', 'moved', 'closer', 'reality', 'thursday', 'intel', 'said', 'would', 'list', 'standards', 'technology', 'later', 'year'], ['intel', 'developing', 'ultra', 'wideband', 'technology', 'uwb', 'would', 'allow', 'fast', 'data', 'transfer', 'low', 'power', 'needs'], ['uwb', 'tipped', 'used', 'wireless', 'transfer', 'video', 'home', 'office', 'use', 'wireless', 'usb', 'devices', 'need', 'low', 'power', 'consumption'], ['rival', 'uwb', 'standard', 'developed', 'motorola', 'chip', 'firm', 'freescale'], ['mobile', 'phone', 'conference', 'gsm', 'cannes', 'last', 'month', 'samsung', 'demonstrated', 'phone', 'using', 'uwb', 'technology', 'freescale'], ['press', 'conference', 'thursday', 'intel', 'announced', 'two', 'uwb', 'groups', 'wimedia', 'alliance', 'multi', 'band', 'ofdm', 'alliance', 'merged', 'support', 'technology'], ['uwb', 'makes', 'possible', 'stream', 'huge', 'amounts', 'data', 'air', 'short', 'distances'], ['one', 'likely', 'uses', 'uwb', 'make', 'possible', 'send', 'dvd', 'quality', 'video', 'images', 'wirelessly', 'tv', 'screens', 'let', 'people', 'beam', 'music', 'media', 'players', 'around', 'home'], ['technology', 'potential', 'transmit', 'hundreds', 'megabits', 'data', 'per', 'second'], ['consumer', 'electronics', 'companies', 'want', 'uwb', 'replace', 'cables', 'simplify', 'set', 'jeff', 'ravencraft', 'technology', 'strategist', 'intel', 'chairman', 'wireless', 'usb', 'promoter', 'group', 'told', 'technology', 'site', 'zdnet'], ['thirty', 'percent', 'consumer', 'electronics', 'returns', 'consumer', 'set', 'equipment'], ['first', 'products', 'using', 'uwb', 'technology', 'intel', 'due', 'hit', 'market', 'later', 'year'], ['initially', 'products', 'using', 'wireless', 'usb', 'connections'], ['uwb', 'could', 'also', 'used', 'create', 'called', 'personal', 'area', 'networks', 'let', 'person', 'gadgets', 'quickly', 'easily', 'swap', 'data', 'amongst'], ['technology', 'works', 'range', 'metres', 'uses', 'billions', 'short', 'radio', 'pulses', 'every', 'second', 'carry', 'data'], ['intel', 'says', 'benefit', 'uwb', 'interfere', 'wi_fi', 'technologies', 'already', 'use', 'wi_fi', 'wimax', 'mobile', 'phone', 'networks']]\n"
     ]
    }
   ],
   "source": [
    "bigram = gensim.models.phrases.Phrases(sample_text, min_count=3, threshold=10)\n",
    "sample_text_bigram = [bigram[sent] for sent in sample_text]\n",
    "print(sample_text_bigram)"
   ]
  },
  {
   "cell_type": "markdown",
   "metadata": {},
   "source": [
    "### Задание: добиться того, чтобы \"how are you\" выделилось как триграмма"
   ]
  },
  {
   "cell_type": "markdown",
   "metadata": {},
   "source": [
    "+ понять как делаются триграммы\n",
    "+ обработать текст (лучше только с использованием simple_preprocess, чтобы ничего не удалилось, если оно входит в stopwords)\n",
    "+ создать модель триграммы\n",
    "+ получить текст с выделенными триграммами (how are you -> how_are_you)"
   ]
  },
  {
   "cell_type": "code",
   "execution_count": 37,
   "metadata": {},
   "outputs": [],
   "source": [
    "task_text = \"\"\"\n",
    "- Hi Jacob, how are you? \n",
    "- I'm fine, Nathan, how are you, Joseph? \n",
    "- I'm all good, Jacob, how are you, Natalie? \n",
    "- I'm okay, Joseph, how are you, Nikolas?\n",
    "- Nothing is wrong, Natalie, how are you, Grian?\n",
    "- Everything is pretty good, Nikolas,  how are you, Oliver?\n",
    "- Fantastic, Grian! How are you, Mathew?\n",
    "- It's never been better, Oliver, how are you, Minerva?\n",
    "- Great as always, Mathew, how are you, Oleg?\n",
    "\"\"\""
   ]
  },
  {
   "cell_type": "markdown",
   "metadata": {},
   "source": [
    "### TF-IDF (TF — term frequency, IDF — inverse document frequency): "
   ]
  },
  {
   "cell_type": "code",
   "execution_count": 38,
   "metadata": {},
   "outputs": [],
   "source": [
    "from gensim import models"
   ]
  },
  {
   "cell_type": "code",
   "execution_count": 39,
   "metadata": {},
   "outputs": [
    {
     "name": "stdout",
     "output_type": "stream",
     "text": [
      "[[('back', 1), ('feet', 1), ('get', 1), ('ground', 1), ('help', 1), ('me', 1), ('my', 1), ('on', 1), ('the', 1)], [('help', 1), ('me', 1), ('please', 2), ('won', 1), ('you', 1)], [('help', 2), ('me', 2)]]\n"
     ]
    }
   ],
   "source": [
    "print(decipher(sample_dictionary_corpus, sample_corpus))"
   ]
  },
  {
   "cell_type": "code",
   "execution_count": 40,
   "metadata": {},
   "outputs": [
    {
     "name": "stdout",
     "output_type": "stream",
     "text": [
      "[[('back', 0.38), ('feet', 0.38), ('get', 0.38), ('ground', 0.38), ('help', 0.08), ('me', 0.08), ('my', 0.38), ('on', 0.38), ('the', 0.38)], [('help', 0.08), ('me', 0.08), ('please', 0.81), ('won', 0.41), ('you', 0.41)], [('help', 0.71), ('me', 0.71)]]\n"
     ]
    }
   ],
   "source": [
    "sample_tfidf = models.TfidfModel(sample_corpus, smartirs='ntc')\n",
    "print(decipher(sample_dictionary_corpus, sample_tfidf[sample_corpus]))"
   ]
  },
  {
   "cell_type": "markdown",
   "metadata": {},
   "source": [
    "### Импорт наборов данных"
   ]
  },
  {
   "cell_type": "code",
   "execution_count": 41,
   "metadata": {},
   "outputs": [],
   "source": [
    "import gensim.downloader as api"
   ]
  },
  {
   "cell_type": "code",
   "execution_count": 42,
   "metadata": {},
   "outputs": [
    {
     "data": {
      "text/plain": [
       "{'num_records': 1701,\n",
       " 'record_format': 'list of str (tokens)',\n",
       " 'file_size': 33182058,\n",
       " 'reader_code': 'https://github.com/RaRe-Technologies/gensim-data/releases/download/text8/__init__.py',\n",
       " 'license': 'not found',\n",
       " 'description': 'First 100,000,000 bytes of plain text from Wikipedia. Used for testing purposes; see wiki-english-* for proper full Wikipedia datasets.',\n",
       " 'checksum': '68799af40b6bda07dfa47a32612e5364',\n",
       " 'file_name': 'text8.gz',\n",
       " 'read_more': ['http://mattmahoney.net/dc/textdata.html'],\n",
       " 'parts': 1}"
      ]
     },
     "execution_count": 42,
     "metadata": {},
     "output_type": "execute_result"
    }
   ],
   "source": [
    "api.info(\"text8\")"
   ]
  },
  {
   "cell_type": "code",
   "execution_count": null,
   "metadata": {},
   "outputs": [],
   "source": [
    "# не рекомендуется запускать просто так\n",
    "dataset = api.load(\"text8\")\n",
    "data = [i for i in dataset]"
   ]
  },
  {
   "cell_type": "markdown",
   "metadata": {},
   "source": [
    "### Создание тематических моделей"
   ]
  },
  {
   "cell_type": "code",
   "execution_count": 43,
   "metadata": {},
   "outputs": [],
   "source": [
    "from gensim.models import LdaModel, LdaMulticore"
   ]
  },
  {
   "cell_type": "code",
   "execution_count": 44,
   "metadata": {},
   "outputs": [],
   "source": [
    "LDA_dictionary = corpora.Dictionary(sample_text_bigram)\n",
    "LDA_corpus = [LDA_dictionary.doc2bow(sent) for sent in sample_text_bigram]"
   ]
  },
  {
   "cell_type": "code",
   "execution_count": 45,
   "metadata": {},
   "outputs": [],
   "source": [
    "LDA_model = LdaMulticore(corpus=LDA_corpus,\n",
    "                         id2word=LDA_dictionary,\n",
    "                         num_topics=1, #количество тем\n",
    "                         passes=10,\n",
    "                         chunksize=5, # количество подсписков используемых в каждом проходе\n",
    "                         iterations=100, \n",
    "                         gamma_threshold=0.001,\n",
    "                         per_word_topics=True)\n",
    "LDA_model.save('LDA_model.model')"
   ]
  },
  {
   "cell_type": "code",
   "execution_count": 46,
   "metadata": {},
   "outputs": [
    {
     "data": {
      "text/plain": [
       "[(0,\n",
       "  '0.032*\"uwb\" + 0.027*\"technology\" + 0.019*\"intel\" + 0.016*\"data\" + 0.013*\"wireless\" + 0.013*\"wi_fi\" + 0.011*\"using\" + 0.011*\"usb\" + 0.011*\"consumer\" + 0.011*\"ultra\"')]"
      ]
     },
     "execution_count": 46,
     "metadata": {},
     "output_type": "execute_result"
    }
   ],
   "source": [
    "LDA_model.print_topics()"
   ]
  },
  {
   "cell_type": "markdown",
   "metadata": {},
   "source": [
    "### Задание: используя файл politics.txt создать тематическую модель"
   ]
  },
  {
   "cell_type": "markdown",
   "metadata": {},
   "source": [
    "        + подготовить файл к обработке\n",
    "        + найти биграммы (если очень хочется, то и триграммы)\n",
    "        + создать словарь\n",
    "        + создать корпус\n",
    "        + создать тематическую модель"
   ]
  },
  {
   "cell_type": "code",
   "execution_count": null,
   "metadata": {},
   "outputs": [],
   "source": []
  },
  {
   "cell_type": "markdown",
   "metadata": {},
   "source": [
    "### Выделение ключевых слов:"
   ]
  },
  {
   "cell_type": "code",
   "execution_count": 47,
   "metadata": {},
   "outputs": [],
   "source": [
    "from gensim.summarization import summarize, keywords"
   ]
  },
  {
   "cell_type": "code",
   "execution_count": 48,
   "metadata": {},
   "outputs": [],
   "source": [
    "with open('sample_text.txt', 'r') as file:\n",
    "    just_text = file.read()"
   ]
  },
  {
   "cell_type": "code",
   "execution_count": 49,
   "metadata": {},
   "outputs": [
    {
     "data": {
      "text/plain": [
       "'Intel is developing ultra-wideband technology (UWB) which would allow fast data transfer but with low power needs.'"
      ]
     },
     "execution_count": 49,
     "metadata": {},
     "output_type": "execute_result"
    }
   ],
   "source": [
    "summarize(just_text, word_count=20)"
   ]
  },
  {
   "cell_type": "code",
   "execution_count": 50,
   "metadata": {},
   "outputs": [
    {
     "name": "stdout",
     "output_type": "stream",
     "text": [
      "technology\n",
      "technologies\n",
      "uwb\n",
      "intel\n",
      "data\n",
      "ultra fast\n",
      "usb\n",
      "phone conference\n",
      "groups\n",
      "group\n",
      "consumer electronics\n",
      "huge\n",
      "use\n",
      "uses\n",
      "firm\n",
      "samsung\n",
      "power\n",
      "people beam\n",
      "radio\n",
      "short\n"
     ]
    }
   ],
   "source": [
    "print(keywords(just_text))"
   ]
  },
  {
   "cell_type": "markdown",
   "metadata": {},
   "source": [
    "### word2vec"
   ]
  },
  {
   "cell_type": "code",
   "execution_count": 51,
   "metadata": {},
   "outputs": [],
   "source": [
    "with open('politics.txt', 'r') as file:\n",
    "    politics_w2v = file.read()\n",
    "politics_w2v = prepare_text(nltk.sent_tokenize(politics_w2v))"
   ]
  },
  {
   "cell_type": "code",
   "execution_count": null,
   "metadata": {},
   "outputs": [],
   "source": [
    "politics_w2v_model = gensim.models.Word2Vec(politics_w2v, size = 500, window = 5, min_count=2, workers = 4, hs = 1, negative = 0)\n",
    "politics_w2v_model.save('politics_w2v_model')"
   ]
  },
  {
   "cell_type": "code",
   "execution_count": null,
   "metadata": {},
   "outputs": [],
   "source": [
    "print(politics_w2v_model.wv.similarity('britain','china'))\n",
    "print(politics_w2v_model.wv.similarity('war','china'))"
   ]
  },
  {
   "cell_type": "code",
   "execution_count": null,
   "metadata": {},
   "outputs": [],
   "source": [
    "politics_w2v_model.score([\"British government\".split()])"
   ]
  },
  {
   "cell_type": "code",
   "execution_count": null,
   "metadata": {},
   "outputs": [],
   "source": [
    "politics_w2v_model.wv.doesnt_match(\"government king minister\".split())"
   ]
  },
  {
   "cell_type": "code",
   "execution_count": null,
   "metadata": {},
   "outputs": [],
   "source": [
    "politics_w2v_model.wv.most_similar('government', topn=5)"
   ]
  },
  {
   "cell_type": "code",
   "execution_count": null,
   "metadata": {},
   "outputs": [],
   "source": [
    "politics_w2v_model.wv.most_similar(positive=['king'], negative=['government'])"
   ]
  },
  {
   "cell_type": "code",
   "execution_count": null,
   "metadata": {},
   "outputs": [],
   "source": [
    "word2vec_model300 = api.load('word2vec-google-news-300') # если хочется действительно что-то интересное посмотреть"
   ]
  },
  {
   "cell_type": "markdown",
   "metadata": {},
   "source": [
    "### Задание на случай, если вы решитесь скачать модель"
   ]
  },
  {
   "cell_type": "markdown",
   "metadata": {},
   "source": [
    "Написать предложение и заменить в нем все слова, кроме предлогов (использовать stopwords), на наиболее похожие согласно модели"
   ]
  },
  {
   "cell_type": "code",
   "execution_count": null,
   "metadata": {},
   "outputs": [],
   "source": []
  }
 ],
 "metadata": {
  "kernelspec": {
   "display_name": "Python 3",
   "language": "python",
   "name": "python3"
  },
  "language_info": {
   "codemirror_mode": {
    "name": "ipython",
    "version": 3
   },
   "file_extension": ".py",
   "mimetype": "text/x-python",
   "name": "python",
   "nbconvert_exporter": "python",
   "pygments_lexer": "ipython3",
   "version": "3.7.3"
  }
 },
 "nbformat": 4,
 "nbformat_minor": 2
}
