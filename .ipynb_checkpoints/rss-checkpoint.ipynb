{
 "cells": [
  {
   "cell_type": "code",
   "execution_count": 18,
   "metadata": {},
   "outputs": [],
   "source": [
    "import feedparser\n",
    "from bs4 import BeautifulSoup\n",
    "import re\n",
    "from gensim.summarization import keywords"
   ]
  },
  {
   "cell_type": "code",
   "execution_count": 22,
   "metadata": {},
   "outputs": [
    {
     "data": {
      "text/plain": [
       "'Tue, 29 Oct 2019 18:54:12 +0300'"
      ]
     },
     "execution_count": 22,
     "metadata": {},
     "output_type": "execute_result"
    }
   ],
   "source": [
    "test = feedparser.parse('https://shikimori.one/forum/news.rss')\n",
    "test2 = test['entries']\n",
    "cleanr = re.compile('<.*?>|&([a-z0-9]+|#[0-9]{1,6}|#x[0-9a-f]{1,6});')\n",
    "test2[10].published"
   ]
  },
  {
   "cell_type": "code",
   "execution_count": 26,
   "metadata": {},
   "outputs": [
    {
     "name": "stdout",
     "output_type": "stream",
     "text": [
      "Shoujo☆Kageki Revue Starlight\n",
      "https://shikimori.one/forum/news/296191-shoujo-kageki-revue-starlight\n",
      "\n",
      "Церемония открытия памяти погибших при пожаре Kyoto Animation.\n",
      "https://shikimori.one/forum/news/296154-tseremoniya-otkrytiya-pamyati-pogibshih-pri-pozhare-kyoto-animation\n",
      "\n",
      "Панель с Араки Хирохико на фестивале LUCCA 2019\n",
      "https://shikimori.one/forum/news/296090-panel-s-araki-hirohiko-na-festivale-lucca-2019\n",
      "\n",
      "Ёсиюки Томино раскритиковал новый фильм Синкая за \"нехватку секса\".\n",
      "https://shikimori.one/forum/news/296035-yosiyuki-tomino-raskritikoval-novyy-film-sinkaya-za-nehvatku-seksa\n",
      "\n",
      "Школьника избили за критику аниме.\n",
      "https://shikimori.one/forum/news/296009-shkolnika-izbili-za-kritiku-anime\n",
      "\n",
      "Предпоказ фильма «Вайолет Эвергарден: Вечность и призрак пера».\n",
      "https://shikimori.one/forum/news/296008-predpokaz-filma-vayolet-evergarden-vechnost-i-prizrak-pera\n",
      "\n",
      "Тираж манги «Наруто» достиг 250 млн копий\n",
      "https://shikimori.one/forum/news/295994-tirazh-mangi-naruto-dostig-250-mln-kopiy\n",
      "\n",
      "Вышел трейлер фильма «Кайдзи: Последняя игра»\n",
      "https://shikimori.one/forum/news/295912-vyshel-treyler-filma-kaydzi-poslednyaya-igra\n",
      "\n",
      "«Спираль» — интервью с авторами сериала по хоррор-манге Дзюндзи Ито\n",
      "https://shikimori.one/forum/news/295908-spiral-intervyu-s-avtorami-seriala-po-horror-mange-dzyundzi-ito\n",
      "\n",
      "Второй сезон \"Re:Zero\" обзавёлся датой премьеры\n",
      "https://shikimori.one/forum/news/295875-vtoroy-sezon-re-zero-obzavyolsya-datoy-premiery\n",
      "\n"
     ]
    }
   ],
   "source": [
    "for x in test2[:10]:\n",
    "    #bs = BeautifulSoup(x.summary).get_text()\n",
    "    #print(re.sub('\\.(?=\\w)', '.\\1', bs))\n",
    "    #print()\n",
    "    cleantext = re.sub(cleanr, '', x.title)\n",
    "    tt1 = re.sub(' +', ' ', re.sub('[\\n\\t\\r]+', '', cleantext))\n",
    "    print(re.sub('^ ', '', tt1))\n",
    "    print(x['link'])\n",
    "    print()"
   ]
  },
  {
   "cell_type": "code",
   "execution_count": null,
   "metadata": {},
   "outputs": [],
   "source": [
    "github = feedparser.parse('https://github.com/cmlimm.private.atom?token=AD6MEE2WRZKT3K3424KCDXV3YWQEW')\n",
    "gitent = github['entries']"
   ]
  },
  {
   "cell_type": "code",
   "execution_count": null,
   "metadata": {},
   "outputs": [],
   "source": [
    "for x in gitent:\n",
    "    cleantext = re.sub(cleanr, '', x.title)\n",
    "    #tt1 = re.sub(' +', ' ', re.sub('[\\n\\t\\r]+', '', cleantext))\n",
    "    print(re.sub('^ ', '', cleantext))\n",
    "    print(x['link'])\n",
    "    print()"
   ]
  },
  {
   "cell_type": "code",
   "execution_count": 24,
   "metadata": {},
   "outputs": [
    {
     "data": {
      "text/plain": [
       "'2019-10-20T12:15:00+00:00'"
      ]
     },
     "execution_count": 24,
     "metadata": {},
     "output_type": "execute_result"
    }
   ],
   "source": [
    "yt = feedparser.parse('https://www.youtube.com/feeds/videos.xml?channel_id=UCU9pX8hKcrx06XfOB-VQLdw')\n",
    "ytent = yt['entries']\n",
    "ytent[5].published"
   ]
  },
  {
   "cell_type": "code",
   "execution_count": 25,
   "metadata": {},
   "outputs": [
    {
     "name": "stdout",
     "output_type": "stream",
     "text": [
      "Minecraft Combat Test Snapshot 3 : Chopping Enchantment & Invulnerability Cool Down Removed\n",
      "https://www.youtube.com/watch?v=nkNue6uCC3Y\n",
      "\n",
      "Hermitcraft VI 864 Demise Dare's & Pacified Pillagers!\n",
      "https://www.youtube.com/watch?v=9Vbr_5uZzHU\n",
      "\n",
      "Minecraft 1.15 Snapshot 19w44a The Hoglin, Stackable Honey Bottles! & Crazy Evoker Fangs\n",
      "https://www.youtube.com/watch?v=vcF1MVYSloM\n",
      "\n",
      "Hermitcraft VI 863 Scamming Tango & IDEA's First Diamonds!\n",
      "https://www.youtube.com/watch?v=Z5BjpJRmuEk\n",
      "\n",
      "Minecraft : The Evolution Of My Minecraft Bases\n",
      "https://www.youtube.com/watch?v=bpm-YTucLrA\n",
      "\n"
     ]
    }
   ],
   "source": [
    "for x in ytent[:5]:\n",
    "    cleantext = re.sub(cleanr, '', x.title)\n",
    "    tt1 = re.sub(' +', ' ', re.sub('[\\n\\t\\r]+', '', cleantext))\n",
    "    print(re.sub('^ ', '', tt1))\n",
    "    print(x['link'])\n",
    "    print()"
   ]
  },
  {
   "cell_type": "code",
   "execution_count": null,
   "metadata": {},
   "outputs": [],
   "source": [
    "testre = re.compile('.+\\..+')\n",
    "print(re.match(testre, 'https://shikimori.one/forum/news.rss'))"
   ]
  },
  {
   "cell_type": "code",
   "execution_count": null,
   "metadata": {},
   "outputs": [],
   "source": [
    "testre1 = re.compile('(У|у)далить ленты \\w+( \\w+)*$')\n",
    "print(re.match(testre1, 'Удалить ленты mom mom mom'))"
   ]
  },
  {
   "cell_type": "code",
   "execution_count": 8,
   "metadata": {},
   "outputs": [
    {
     "data": {
      "text/plain": [
       "'Mon, 04 Nov 2019 10:00:00 +0000'"
      ]
     },
     "execution_count": 8,
     "metadata": {},
     "output_type": "execute_result"
    }
   ],
   "source": [
    "arch = feedparser.parse('http://feeds.feedburner.com/Archdaily?ad_name=footer-links')\n",
    "archent = arch['entries']\n",
    "archent[1].published"
   ]
  },
  {
   "cell_type": "code",
   "execution_count": null,
   "metadata": {},
   "outputs": [],
   "source": [
    "for x in archent:\n",
    "    #bs = BeautifulSoup(x.summary).get_text()\n",
    "    #cont = BeautifulSoup(x.content[0]['value']).find(\"img\")['src']\n",
    "    #print(cont)\n",
    "    #print(re.sub('\\.(?=\\w)', '.\\1', bs))\n",
    "    #print()\n",
    "    cleantext = re.sub(cleanr, '', x.title)\n",
    "    tt1 = re.sub(' +', ' ', re.sub('[\\n\\t\\r]+', '', cleantext))\n",
    "    print(re.sub('^ ', '', tt1))\n",
    "    print(x['link'])\n",
    "    print()"
   ]
  },
  {
   "cell_type": "code",
   "execution_count": 9,
   "metadata": {},
   "outputs": [],
   "source": [
    "keywords = {'1':['a', 'b', 'c'], '2':['q', 'w', 'e']}"
   ]
  },
  {
   "cell_type": "code",
   "execution_count": 13,
   "metadata": {},
   "outputs": [
    {
     "name": "stdout",
     "output_type": "stream",
     "text": [
      "1\n",
      "2\n"
     ]
    }
   ],
   "source": [
    "for feed in keywords:\n",
    "    print(feed)"
   ]
  },
  {
   "cell_type": "code",
   "execution_count": 17,
   "metadata": {},
   "outputs": [
    {
     "data": {
      "text/plain": [
       "False"
      ]
     },
     "execution_count": 17,
     "metadata": {},
     "output_type": "execute_result"
    }
   ],
   "source": [
    "'a' in keywords"
   ]
  },
  {
   "cell_type": "code",
   "execution_count": null,
   "metadata": {},
   "outputs": [],
   "source": []
  }
 ],
 "metadata": {
  "kernelspec": {
   "display_name": "Python 3",
   "language": "python",
   "name": "python3"
  },
  "language_info": {
   "codemirror_mode": {
    "name": "ipython",
    "version": 3
   },
   "file_extension": ".py",
   "mimetype": "text/x-python",
   "name": "python",
   "nbconvert_exporter": "python",
   "pygments_lexer": "ipython3",
   "version": "3.7.3"
  }
 },
 "nbformat": 4,
 "nbformat_minor": 2
}
