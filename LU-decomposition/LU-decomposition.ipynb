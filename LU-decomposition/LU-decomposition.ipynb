{
 "cells": [
  {
   "cell_type": "code",
   "execution_count": 1,
   "metadata": {},
   "outputs": [],
   "source": [
    "import numpy as np\n",
    "import scipy.linalg"
   ]
  },
  {
   "cell_type": "code",
   "execution_count": 2,
   "metadata": {},
   "outputs": [],
   "source": [
    "def rearrange(matrix):\n",
    "    n = len(matrix)\n",
    "                                                                                                                                                                                          \n",
    "    pivot_matrix = np.eye(n, n)\n",
    "    \n",
    "    for index, column in enumerate(np.absolute(matrix.T)):\n",
    "        row = index + np.argmax(column[index:])\n",
    "        if index != row:                                                                                                                                                                                                                       \n",
    "            pivot_matrix[[index, row]] = pivot_matrix[[row, index]]\n",
    "            \n",
    "    return np.dot(pivot_matrix, matrix)"
   ]
  },
  {
   "cell_type": "code",
   "execution_count": 3,
   "metadata": {},
   "outputs": [],
   "source": [
    "def lu_decomposition(matrix):\n",
    "    n = len(matrix)\n",
    "    lower = np.eye(n, n)\n",
    "    upper = np.zeros((n, n))\n",
    "    rearranged = rearrange(matrix)\n",
    "    \n",
    "    for j in range(n):\n",
    "        \n",
    "        # вычисляем верхнюю матрицу\n",
    "        for i in range(j + 1):\n",
    "            upper[i, j] = rearranged[i, j] - np.dot(upper[:i, j], lower[i, :i])\n",
    "        \n",
    "        # вычисляем нижнюю матрицу\n",
    "        for i in range(j, n):\n",
    "            lower[i, j] = (rearranged[i, j] - np.dot(upper[:i, j], lower[i, :i]))/upper[j, j]\n",
    "            \n",
    "    return (lower, upper)"
   ]
  },
  {
   "cell_type": "code",
   "execution_count": 4,
   "metadata": {},
   "outputs": [
    {
     "data": {
      "text/plain": [
       "array([[ 1.  ,  0.17, -0.25,  0.54],\n",
       "       [ 0.47,  1.  ,  0.67, -0.32],\n",
       "       [-0.11,  0.35,  1.  , -0.74],\n",
       "       [ 0.55,  0.43,  0.36,  1.  ]])"
      ]
     },
     "execution_count": 4,
     "metadata": {},
     "output_type": "execute_result"
    }
   ],
   "source": [
    "matrix = np.array([[1.00, 0.17, -0.25, 0.54], [0.47, 1.00, 0.67, -0.32], [-0.11, 0.35, 1.00, -0.74], [0.55, 0.43, 0.36, 1.00]])\n",
    "matrix"
   ]
  },
  {
   "cell_type": "code",
   "execution_count": 7,
   "metadata": {},
   "outputs": [
    {
     "data": {
      "text/plain": [
       "(array([[ 1.        ,  0.        ,  0.        ,  0.        ],\n",
       "        [ 0.47      ,  1.        ,  0.        ,  0.        ],\n",
       "        [-0.11      ,  0.40071731,  1.        ,  0.        ],\n",
       "        [ 0.55      ,  0.36572112,  0.31889697,  1.        ]]),\n",
       " array([[ 1.        ,  0.17      , -0.25      ,  0.54      ],\n",
       "        [ 0.        ,  0.9201    ,  0.7875    , -0.5738    ],\n",
       "        [ 0.        ,  0.        ,  0.65693512, -0.45066841],\n",
       "        [ 0.        ,  0.        ,  0.        ,  1.05656757]]))"
      ]
     },
     "execution_count": 7,
     "metadata": {},
     "output_type": "execute_result"
    }
   ],
   "source": [
    "lu_decomposition(matrix) # реализованная функция"
   ]
  },
  {
   "cell_type": "code",
   "execution_count": 8,
   "metadata": {},
   "outputs": [
    {
     "data": {
      "text/plain": [
       "(array([[ 1.        ,  0.        ,  0.        ,  0.        ],\n",
       "        [ 0.47      ,  1.        ,  0.        ,  0.        ],\n",
       "        [-0.11      ,  0.40071731,  1.        ,  0.        ],\n",
       "        [ 0.55      ,  0.36572112,  0.31889697,  1.        ]]),\n",
       " array([[ 1.        ,  0.17      , -0.25      ,  0.54      ],\n",
       "        [ 0.        ,  0.9201    ,  0.7875    , -0.5738    ],\n",
       "        [ 0.        ,  0.        ,  0.65693512, -0.45066841],\n",
       "        [ 0.        ,  0.        ,  0.        ,  1.05656757]]))"
      ]
     },
     "execution_count": 8,
     "metadata": {},
     "output_type": "execute_result"
    }
   ],
   "source": [
    "scipy.linalg.lu(matrix, permute_l=True) # встроенная функция"
   ]
  }
 ],
 "metadata": {
  "kernelspec": {
   "display_name": "Python 3",
   "language": "python",
   "name": "python3"
  },
  "language_info": {
   "codemirror_mode": {
    "name": "ipython",
    "version": 3
   },
   "file_extension": ".py",
   "mimetype": "text/x-python",
   "name": "python",
   "nbconvert_exporter": "python",
   "pygments_lexer": "ipython3",
   "version": "3.7.3"
  }
 },
 "nbformat": 4,
 "nbformat_minor": 4
}
