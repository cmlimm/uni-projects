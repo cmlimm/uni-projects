{
 "cells": [
  {
   "cell_type": "code",
   "execution_count": 1,
   "metadata": {},
   "outputs": [],
   "source": [
    "import numpy as np"
   ]
  },
  {
   "cell_type": "markdown",
   "metadata": {},
   "source": [
    "## Задача 1"
   ]
  },
  {
   "cell_type": "markdown",
   "metadata": {},
   "source": [
    "Найти коэффициенты прямых материальных затрат. Вычислить объемы конечного продукта при увеличении валового выпуска каждой отрасли соответственно на 10%, 50% и 20%."
   ]
  },
  {
   "cell_type": "code",
   "execution_count": 72,
   "metadata": {},
   "outputs": [],
   "source": [
    "def io_coef(matrix, end_product, increase):\n",
    "    big_array = np.column_stack((matrix, kp))\n",
    "    sum_array = np.sum(big_array, axis=1)\n",
    "    coef = matrix/sum_array\n",
    "    \n",
    "    return coef"
   ]
  },
  {
   "cell_type": "code",
   "execution_count": 73,
   "metadata": {},
   "outputs": [],
   "source": [
    "def new_kp(matrix, end_product, increase):\n",
    "    big_array = np.column_stack((matrix, kp))\n",
    "    sum_array = np.sum(big_array, axis=1)\n",
    "    io_coef = matrix/sum_array #Коэффициенты прямых материальных затрат\n",
    "    \n",
    "    inverse = np.linalg.inv(np.identity(len(matrix_x))-kpm) #матрица Леонтьева\n",
    "    val = np.dot(inverse, sum_array)\n",
    "    new_val = val + val*(np.divide(inc, 100))\n",
    "    new_ep = np.dot(np.identity(len(matrix_x))-kpm, new_val)\n",
    "    \n",
    "    return new_ep"
   ]
  },
  {
   "cell_type": "code",
   "execution_count": 74,
   "metadata": {},
   "outputs": [],
   "source": [
    "matrix = np.array([[40, 18, 25],\n",
    "                     [16, 9, 25],\n",
    "                     [80, 45, 50]])\n",
    "ep = np.array([21, 16, 75])\n",
    "increase = [10, 20, 50]"
   ]
  },
  {
   "cell_type": "code",
   "execution_count": 75,
   "metadata": {},
   "outputs": [
    {
     "data": {
      "text/plain": [
       "array([ 68.33777778,  56.98222222, 566.77777778])"
      ]
     },
     "execution_count": 75,
     "metadata": {},
     "output_type": "execute_result"
    }
   ],
   "source": [
    "new_ep = new_kp(matrix, ep, inc)\n",
    "new_ep"
   ]
  },
  {
   "cell_type": "markdown",
   "metadata": {},
   "source": [
    "## Задача 2"
   ]
  },
  {
   "cell_type": "code",
   "execution_count": 78,
   "metadata": {},
   "outputs": [],
   "source": [
    "def find_val(io_coef, ep):\n",
    "    inverse = np.linalg.inv(np.identity(len(matrix_x))-coef) #матрица Леонтьева\n",
    "    val = np.dot(inverse, ep)\n",
    "    \n",
    "    return val"
   ]
  },
  {
   "cell_type": "code",
   "execution_count": 79,
   "metadata": {},
   "outputs": [],
   "source": [
    "io_coef = np.array([[0.2, 0.1, 0.3],\n",
    "                 [0.3, 0.2, 0.1],\n",
    "                 [0.1, 0.3, 0.2]])\n",
    "ep = np.array([310, 70, 20])"
   ]
  },
  {
   "cell_type": "code",
   "execution_count": 80,
   "metadata": {},
   "outputs": [
    {
     "data": {
      "text/plain": [
       "array([500., 300., 200.])"
      ]
     },
     "execution_count": 80,
     "metadata": {},
     "output_type": "execute_result"
    }
   ],
   "source": [
    "val = find_val(io_coef, ep)\n",
    "val"
   ]
  }
 ],
 "metadata": {
  "kernelspec": {
   "display_name": "Python 3",
   "language": "python",
   "name": "python3"
  },
  "language_info": {
   "codemirror_mode": {
    "name": "ipython",
    "version": 3
   },
   "file_extension": ".py",
   "mimetype": "text/x-python",
   "name": "python",
   "nbconvert_exporter": "python",
   "pygments_lexer": "ipython3",
   "version": "3.7.3"
  }
 },
 "nbformat": 4,
 "nbformat_minor": 4
}
