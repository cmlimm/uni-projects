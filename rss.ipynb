{
 "cells": [
  {
   "cell_type": "code",
   "execution_count": 284,
   "metadata": {},
   "outputs": [],
   "source": [
    "import feedparser\n",
    "from bs4 import BeautifulSoup\n",
    "import re\n",
    "from gensim.summarization import keywords"
   ]
  },
  {
   "cell_type": "code",
   "execution_count": 285,
   "metadata": {},
   "outputs": [],
   "source": [
    "test = feedparser.parse('https://shikimori.one/forum/news.rss')\n",
    "test2 = test['entries']\n",
    "cleanr = re.compile('<.*?>|&([a-z0-9]+|#[0-9]{1,6}|#x[0-9a-f]{1,6});')"
   ]
  },
  {
   "cell_type": "code",
   "execution_count": 286,
   "metadata": {},
   "outputs": [
    {
     "name": "stdout",
     "output_type": "stream",
     "text": [
      "«Дитя погоды» на телеканале «Ю».\n",
      "https://shikimori.one/forum/news/295860-ditya-pogody-na-telekanale-yu\n",
      "\n",
      "Новый трейлер аниме Pet; премьера сериала переносится на январь 2020 года\n",
      "https://shikimori.one/forum/news/295840-novyy-treyler-anime-pet-premiera-seriala-perenositsya-na-yanvar-2020-goda\n",
      "\n",
      "Премьера аниме на «2x2».\n",
      "https://shikimori.one/forum/news/295819-premiera-anime-na-2x2\n",
      "\n",
      "Трейлер фильма \"Saezuru Tori wa Habatakanai: The Clouds Gather\"\n",
      "https://shikimori.one/forum/news/295737-treyler-filma-saezuru-tori-wa-habatakanai-the-clouds-gather\n",
      "\n",
      "Макото Синкай на премьере фильма «Дитя погоды».\n",
      "https://shikimori.one/forum/news/295731-makoto-sinkay-na-premiere-filma-ditya-pogody\n",
      "\n",
      "Новый постер и трейлер аниме Saiki Kusuo no Psi Nan: Shidou-Hen\n",
      "https://shikimori.one/forum/news/295697-novyy-poster-i-treyler-anime-saiki-kusuo-no-psi-nan-shidou-hen\n",
      "\n",
      "Новые постер и трейлер полнометражного аниме \"Белый ящик\"\n",
      "https://shikimori.one/forum/news/295611-novye-poster-i-treyler-polnometrazhnogo-anime-belyy-yaschik\n",
      "\n",
      "По манге «Uramichi Oniisan» анонсирована аниме-адаптация\n",
      "https://shikimori.one/forum/news/295607-po-mange-uramichi-oniisan-anonsirovana-anime-adaptatsiya\n",
      "\n",
      "По манге «Dokyuu Hentai HxEros» анонсирован аниме-сериал.\n",
      "https://shikimori.one/forum/news/295603-po-mange-dokyuu-hentai-hxeros-anonsirovan-anime-serial\n",
      "\n",
      "Umibe no Étranger\n",
      "https://shikimori.one/forum/news/295583-umibe-no-tranger\n",
      "\n",
      "Кассовые сборы фильма «Дети моря» в российском прокате\n",
      "https://shikimori.one/forum/news/295517-kassovye-sbory-filma-deti-morya-v-rossiyskom-prokate\n",
      "\n",
      "Тизер и постер аниме Ghost in the Shell: SAC_2045 от Netflix\n",
      "https://shikimori.one/forum/news/295489-tizer-i-poster-anime-ghost-in-the-shell-sac-2045-ot-netflix\n",
      "\n",
      "По визуальной новелле \"Muv-Luv Alternative\" анонсирована аниме-адаптация\n",
      "https://shikimori.one/forum/news/295433-po-vizualnoy-novelle-muv-luv-alternative-anonsirovana-anime-adaptatsiya\n",
      "\n",
      "Скончался Хидэо Адзума\n",
      "https://shikimori.one/forum/news/295373-skonchalsya-hideo-adzuma\n",
      "\n",
      "7SEEDS 2-й сезон\n",
      "https://shikimori.one/forum/news/295346-7seeds-2-y-sezon\n",
      "\n",
      "Предстоящий фильм «Kimetsu no Yaiba Movie: Mugen Ressha-hen» обзавёлся датой\n",
      "https://shikimori.one/forum/news/295244-predstoyaschiy-film-kimetsu-no-yaiba-movie-mugen-ressha-hen-obzavyolsya-datoy\n",
      "\n",
      "Старт турнира\n",
      "https://shikimori.one/forum/contests/contest-121-luchshee-anime-vesennego-sezona-2019/295204-start-turnira\n",
      "\n",
      "Главная страница\n",
      "https://shikimori.one/forum/news/295186-glavnaya-stranitsa\n",
      "\n",
      "Tatoeba Last Dungeon Mae no Mura no Shounen ga Joban no Machi de Kurasu Youna Monogatari\n",
      "https://shikimori.one/forum/news/295170-tatoeba-last-dungeon-mae-no-mura-no-shounen-ga-joban-no-machi-de-kurasu-youna-monogatari\n",
      "\n",
      "Анонсирован второй сезон аниме-адаптации манги Kaguya-sama wa Kokurasetai: Tensai-tachi no Renai Zunousen\n",
      "https://shikimori.one/forum/news/295149-anonsirovan-vtoroy-sezon-anime-adaptatsii-mangi-kaguya-sama-wa-kokurasetai-tensai-tachi-no-renai-zunousen\n",
      "\n",
      "Обновления сайта от лета и до первой половины осени\n",
      "https://shikimori.one/forum/news/295144-obnovleniya-sayta-ot-leta-i-do-pervoy-poloviny-oseni\n",
      "\n",
      "Первый трейлер к аниме-сериалу по ранобэ «Mushoku Tensei: Isekai Ittara Honki Dasu» и стафф\n",
      "https://shikimori.one/forum/news/295107-pervyy-treyler-k-anime-serialu-po-ranobe-mushoku-tensei-isekai-ittara-honki-dasu-i-staff\n",
      "\n",
      "Анонсирована аниме-адаптация ранобэ \"Majo no Tabitabi\"\n",
      "https://shikimori.one/forum/news/295106-anonsirovana-anime-adaptatsiya-ranobe-majo-no-tabitabi\n",
      "\n",
      "Анонсирована аниме-адаптация ранобэ \"Slime Taoshite 300-nen\"\n",
      "https://shikimori.one/forum/news/295104-anonsirovana-anime-adaptatsiya-ranobe-slime-taoshite-300-nen\n",
      "\n",
      "Дата выхода \"Infinite Dendrogram\" и стафф сотрудников\n",
      "https://shikimori.one/forum/news/295102-data-vyhoda-infinite-dendrogram-i-staff-sotrudnikov\n",
      "\n",
      "Новый проект иллюстратора Sidu\n",
      "https://shikimori.one/forum/news/294968-novyy-proekt-illyustratora-sidu\n",
      "\n",
      "Дата выхода \"Рыбалки для школьниц после занятий\" и стафф сотрудников\n",
      "https://shikimori.one/forum/news/294925-data-vyhoda-rybalki-dlya-shkolnits-posle-zanyatiy-i-staff-sotrudnikov\n",
      "\n",
      "Анонсировано новое аниме по мотивам линейки кукол \"Assault Lily Bouquet\"\n",
      "https://shikimori.one/forum/news/294849-anonsirovano-novoe-anime-po-motivam-lineyki-kukol-assault-lily-bouquet\n",
      "\n",
      "Манга \"Клетки за работой\" получит новый спин-офф\n",
      "https://shikimori.one/forum/news/294752-manga-kletki-za-rabotoy-poluchit-novyy-spin-off\n",
      "\n",
      "Appareranman\n",
      "https://shikimori.one/forum/news/294694-appareranman\n",
      "\n"
     ]
    }
   ],
   "source": [
    "for x in test2:\n",
    "    cleantext = re.sub(cleanr, '', x.title)\n",
    "    print(re.sub('\\.(?=\\S)', '\\1', cleantext))\n",
    "    print(x['link'])\n",
    "    print()"
   ]
  },
  {
   "cell_type": "code",
   "execution_count": 287,
   "metadata": {},
   "outputs": [],
   "source": [
    "github = feedparser.parse('https://github.com/cmlimm.private.atom?token=AD6MEE2WRZKT3K3424KCDXV3YWQEW')\n",
    "gitent = github['entries']"
   ]
  },
  {
   "cell_type": "code",
   "execution_count": 288,
   "metadata": {},
   "outputs": [
    {
     "name": "stdout",
     "output_type": "stream",
     "text": [
      "g0stly made g0stly/unecon-lab-assignments public\n",
      "https://github.com/g0stly/unecon-lab-assignments\n",
      "\n",
      "kirill-toldov created a repository kirill-toldov/Clock\n",
      "https://github.com/kirill-toldov/Clock//\n",
      "\n",
      "anafisa created a repository anafisa/News-Bot\n",
      "https://github.com/anafisa/News-Bot//\n",
      "\n",
      "dm-fedorov created a repository dm-fedorov/data-analysis\n",
      "https://github.com/dm-fedorov/data-analysis//\n",
      "\n",
      "anafisa started following arsb29\n",
      "https://github.com/arsb29\n",
      "\n",
      "Nikita-Osipov created a repository Nikita-Osipov/Rss_project\n",
      "https://github.com/Nikita-Osipov/Rss_project//\n",
      "\n",
      "anafisa created a repository anafisa/Coursework1\n",
      "https://github.com/anafisa/Coursework1//\n",
      "\n",
      "whatislove-spirin created a repository whatislove-spirin/perfect_clock_lab\n",
      "https://github.com/whatislove-spirin/perfect_clock_lab//\n",
      "\n",
      "Nikita-Osipov started following AlexandrErofeevsky\n",
      "https://github.com/AlexandrErofeevsky\n",
      "\n",
      "Nikita-Osipov started following cmlimm\n",
      "https://github.com/cmlimm\n",
      "\n",
      "Nikita-Osipov started following dansobolev\n",
      "https://github.com/dansobolev\n",
      "\n",
      "AlexandrErofeevsky started following Nikita-Osipov\n",
      "https://github.com/Nikita-Osipov\n",
      "\n",
      "kirillzx created a repository kirillzx/Agent-based-modeling\n",
      "https://github.com/kirillzx/Agent-based-modeling//\n",
      "\n",
      "anafisa created a repository anafisa/Coursework2\n",
      "https://github.com/anafisa/python_coursework//\n",
      "\n",
      "kirillzx created a repository kirillzx/Math-projects\n",
      "https://github.com/kirillzx/Math-projects//\n",
      "\n",
      "g0stly started following anafisa\n",
      "https://github.com/anafisa\n",
      "\n",
      "kirillzx created a repository kirillzx/Projects\n",
      "https://github.com/kirillzx/Projects//\n",
      "\n",
      "g0stly started following MariaKrepko\n",
      "https://github.com/MariaKrepko\n",
      "\n",
      "AlexandrErofeevsky started following MariaKrepko\n",
      "https://github.com/MariaKrepko\n",
      "\n",
      "AlexandrErofeevsky started following DashaSorokina\n",
      "https://github.com/DashaSorokina\n",
      "\n",
      "anafisa created a repository anafisa/Alarm-clock\n",
      "https://github.com/anafisa/alarm_clock_project//\n",
      "\n",
      "anafisa started following whatislove-spirin\n",
      "https://github.com/whatislove-spirin\n",
      "\n",
      "whatislove-spirin started following anafisa\n",
      "https://github.com/anafisa\n",
      "\n",
      "anafisa started following g0stly\n",
      "https://github.com/g0stly\n",
      "\n",
      "g0stly started following anafisa\n",
      "https://github.com/anafisa\n",
      "\n",
      "kirill-toldov started following AlexandrErofeevsky\n",
      "https://github.com/AlexandrErofeevsky\n",
      "\n",
      "kirillzx started following dm-fedorov\n",
      "https://github.com/dm-fedorov\n",
      "\n",
      "dm-fedorov starred AEsmur/my_python\n",
      "https://github.com/AEsmur/my_python\n",
      "\n",
      "dm-fedorov started following AEsmur\n",
      "https://github.com/AEsmur\n",
      "\n",
      "Sergey-Shulnyaev created a repository Sergey-Shulnyaev/my_first_game\n",
      "https://github.com/Sergey-Shulnyaev/my_first_game//\n",
      "\n"
     ]
    }
   ],
   "source": [
    "for x in gitent:\n",
    "    cleantext = re.sub(cleanr, '', x.title)\n",
    "    tt1 = re.sub(' +', ' ', re.sub('[\\n\\t\\r]+', '', cleantext))\n",
    "    print(re.sub('^ ', '', tt1))\n",
    "    print(x['link'])\n",
    "    print()"
   ]
  },
  {
   "cell_type": "code",
   "execution_count": 289,
   "metadata": {},
   "outputs": [],
   "source": [
    "yt = feedparser.parse('https://www.youtube.com/feeds/videos.xml?channel_id=UCU9pX8hKcrx06XfOB-VQLdw')\n",
    "ytent = yt['entries']"
   ]
  },
  {
   "cell_type": "code",
   "execution_count": 292,
   "metadata": {},
   "outputs": [
    {
     "name": "stdout",
     "output_type": "stream",
     "text": [
      "Hermitcraft VI 863 Scamming Tango & IDEA's First Diamonds!\n",
      "https://www.youtube.com/watch?v=Z5BjpJRmuEk\n",
      "\n",
      "Minecraft : The Evolution Of My Minecraft Bases\n",
      "https://www.youtube.com/watch?v=bpm-YTucLrA\n",
      "\n",
      "Hermitcraft VI 862 Preparing For My Demise!\n",
      "https://www.youtube.com/watch?v=oJjNvxhmj1s\n",
      "\n",
      "Hermitcraft VI 861 Demise & The IDEA Shop Opening!\n",
      "https://www.youtube.com/watch?v=R4QvKMafOF8\n",
      "\n",
      "Minecraft 1.15 Snapshot 19w42a Honey Blocks & Slime Blocks Don't Stick!\n",
      "https://www.youtube.com/watch?v=xIYF_dlfM44\n",
      "\n",
      "Hermitcraft VI 860 Diamonds For Obsidian!\n",
      "https://www.youtube.com/watch?v=vBSM5rCsbf4\n",
      "\n",
      "Hermitcraft VI 859 Chorus Flower Farming & Custom Map Creation!\n",
      "https://www.youtube.com/watch?v=OzNSd6GbXCg\n",
      "\n",
      "Minecraft 1.15 Snapshot 19w41a Honey Block! Honeycomb Block! Cracked Iron Golems & More!\n",
      "https://www.youtube.com/watch?v=p6dSvB1rleQ\n",
      "\n",
      "Hermitcraft VI 858 Stocking Up IDEA & Treasure Hunt!\n",
      "https://www.youtube.com/watch?v=Evf3uJNxSTA\n",
      "\n",
      "Minecraft 1.15 Snapshot 19w40a The Bees Holiday Update!\n",
      "https://www.youtube.com/watch?v=1xZuRr3L_kM\n",
      "\n",
      "Minecraft 1.15 Snapshot 19w39a Blaze 3D Rendering & Free Cape For Bedrock!\n",
      "https://www.youtube.com/watch?v=H5OEzQQfcOg\n",
      "\n",
      "Minecraft 1.16 News : Nether Update! Piglin Beasts, Soulsand Valley & Netherwart Forests\n",
      "https://www.youtube.com/watch?v=kMWs_ndOB6o\n",
      "\n",
      "Hermitcraft VI 857 Answering 99 Questions About Hermitcraft!\n",
      "https://www.youtube.com/watch?v=uGLbVzo97qI\n",
      "\n",
      "Minecraft Creative Inspiration: One Million Subs Plot Special\n",
      "https://www.youtube.com/watch?v=f8c8E_N6I1I\n",
      "\n",
      "Hermitcraft VI 856 Another Tower In The Bay & Cleo's Escape Room!\n",
      "https://www.youtube.com/watch?v=UNBEugIljXY\n",
      "\n"
     ]
    }
   ],
   "source": [
    "for x in ytent:\n",
    "    cleantext = re.sub(cleanr, '', x.title)\n",
    "    tt1 = re.sub(' +', ' ', re.sub('[\\n\\t\\r]+', '', cleantext))\n",
    "    print(re.sub('^ ', '', tt1))\n",
    "    print(x['link'])\n",
    "    print()"
   ]
  },
  {
   "cell_type": "code",
   "execution_count": 309,
   "metadata": {},
   "outputs": [
    {
     "name": "stdout",
     "output_type": "stream",
     "text": [
      "<re.Match object; span=(0, 36), match='https://shikimori.one/forum/news.rss'>\n"
     ]
    }
   ],
   "source": [
    "testre = re.compile('.+\\..+')\n",
    "print(re.match(testre, 'https://shikimori.one/forum/news.rss'))"
   ]
  },
  {
   "cell_type": "code",
   "execution_count": 308,
   "metadata": {},
   "outputs": [
    {
     "name": "stdout",
     "output_type": "stream",
     "text": [
      "<re.Match object; span=(0, 25), match='Удалить ленты mom mom mom'>\n"
     ]
    }
   ],
   "source": [
    "testre1 = re.compile('(У|у)далить ленты \\w+( \\w+)*$')\n",
    "print(re.match(testre1, 'Удалить ленты mom mom mom'))"
   ]
  },
  {
   "cell_type": "code",
   "execution_count": null,
   "metadata": {},
   "outputs": [],
   "source": []
  }
 ],
 "metadata": {
  "kernelspec": {
   "display_name": "Python 3",
   "language": "python",
   "name": "python3"
  },
  "language_info": {
   "codemirror_mode": {
    "name": "ipython",
    "version": 3
   },
   "file_extension": ".py",
   "mimetype": "text/x-python",
   "name": "python",
   "nbconvert_exporter": "python",
   "pygments_lexer": "ipython3",
   "version": "3.7.3"
  }
 },
 "nbformat": 4,
 "nbformat_minor": 2
}
