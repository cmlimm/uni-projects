{
 "cells": [
  {
   "cell_type": "code",
   "execution_count": 2,
   "metadata": {},
   "outputs": [],
   "source": [
    "import requests\n",
    "import bs4\n",
    "import re"
   ]
  },
  {
   "cell_type": "code",
   "execution_count": 13,
   "metadata": {
    "scrolled": true
   },
   "outputs": [],
   "source": [
    "url = 'http://www.rating.unecon.ru/index.php?&y=2018&f=1&up=12020&s=3&g=all&upp=all&ball=hide&sort=fio'\n",
    "brs_HTML = requests.get(url)\n",
    "brs_Soup = bs4.BeautifulSoup(brs_HTML.text)"
   ]
  },
  {
   "cell_type": "code",
   "execution_count": 19,
   "metadata": {},
   "outputs": [],
   "source": [
    "clear_HTML_re = re.compile('<.*?>|&([a-z0-9]+|#[0-9]{1,6}|#x[0-9a-f]{1,6});')\n",
    "def clear_HTML(text):\n",
    "    return re.sub(clear_HTML_re, '', text)"
   ]
  },
  {
   "cell_type": "markdown",
   "metadata": {},
   "source": [
    "### Находим названия предметов"
   ]
  },
  {
   "cell_type": "code",
   "execution_count": 15,
   "metadata": {},
   "outputs": [
    {
     "data": {
      "text/plain": [
       "{'ДИЯ': 'Деловой иностранный язык (Экзамен)',\n",
       " 'ДУ': 'Дифференциальные уравнения (Экзамен)',\n",
       " 'МАIII': 'Математический анализ (I,II,III) (Экзамен)',\n",
       " 'ОС': 'Операционные системы (дифф.зач.)',\n",
       " 'С': 'Социология (Зачет)',\n",
       " 'ФКиСЭД': 'Физическая культура и спорт (элективная дисциплина) (Зачет)',\n",
       " 'Э': 'Экономика (дифф.зач.)',\n",
       " 'ЯиМП': 'Языки и методы программирования (Экзамен)'}"
      ]
     },
     "execution_count": 15,
     "metadata": {},
     "output_type": "execute_result"
    }
   ],
   "source": [
    "subjects_short = brs_Soup.find('div', {'class': 'page_info'}).find_all('b')\n",
    "subjects_short = [subject.text.strip('</b>') for subject in subjects_short]\n",
    "subjects_full = brs_Soup.find('div', {'class': 'page_info'}).find_all('li')\n",
    "subjects_full = [re.findall(\"</b> - (.*?)</li>\", str(subject))[0] for subject in subjects_full]\n",
    "subjects = dict(zip(subjects_short, subjects_full))\n",
    "subjects"
   ]
  },
  {
   "cell_type": "markdown",
   "metadata": {},
   "source": [
    "### Получаем всех студентов"
   ]
  },
  {
   "cell_type": "code",
   "execution_count": 20,
   "metadata": {},
   "outputs": [
    {
     "data": {
      "text/plain": [
       "{'Александрова Софья Викторовна': [22, 0, 30, 26, 97, 0, 57, 10],\n",
       " 'Беляев Арсений Александрович': [26, 0, 35, 26, 98, 0, 56, 10],\n",
       " 'Буточников Александр Валерьевич': [20, 0, 20, 0, 50, 0, 57, 10],\n",
       " 'Ерофеевский Александр Сергеевич': [24, 0, 35, 26, 53, 0, 59, 20],\n",
       " 'Журба Мария Владимировна': [21, 0, 25, 0, 53, 0, 49, 10],\n",
       " 'Захаров Кирилл Александрович': [23, 0, 33, 26, 49, 0, 57, 20],\n",
       " 'Зотов Максим Дмитриевич': [27, 0, 30, 26, 48, 0, 52, 20],\n",
       " 'Кадыров Алексей Алексеевич': [22, 0, 35, 26, 35, 0, 55, 10],\n",
       " 'Лепёхина Анфиса Владимировна': [24, 0, 35, 26, 96, 0, 64, 30],\n",
       " 'Моннар Иван Сергеевич': [22, 0, 24, 26, 98, 0, 58, 20],\n",
       " 'Мотылева Екатерина Дмитриевна': [29, 0, 35, 26, 100, 0, 59, 30],\n",
       " 'Никифорова Елена Осамовна': [21, 0, 25, 26, 58, 0, 47, 20],\n",
       " 'Новоселова Наталья Алексеевна': [23, 0, 35, 26, 39, 0, 59, 20],\n",
       " 'Осипов Никита Сергеевич': [19, 0, 30, 26, 83, 0, 57, 30],\n",
       " 'Скибин Максим Витальевич': [22, 0, 29, 26, 97, 0, 50, 10],\n",
       " 'Смирнова Анастасия Эдуардовна': [25, 0, 35, 26, 100, 0, 61, 10],\n",
       " 'Соболев Даниил Дмитриевич': [23, 0, 26, 26, 33, 0, 51, 20],\n",
       " 'Сорокина Дарья Дмитриевна': [23, 0, 31, 26, 39, 0, 53, 10],\n",
       " 'Спирин Владислав Сергеевич': [27, 0, 25, 26, 100, 0, 49, 10],\n",
       " 'Теряев Артем Дмитриевич': [21, 0, 25, 26, 20, 0, 50, 20],\n",
       " 'Толдов Кирилл Алексеевич': [21, 0, 30, 0, 20, 0, 52, 10],\n",
       " 'Шульняев Сергей Андреевич': [22, 0, 18, 26, 29, 0, 62, 10],\n",
       " 'Эсмурзиев Алексей Александрович': [24, 0, 30, 0, 51, 0, 55, 10]}"
      ]
     },
     "execution_count": 20,
     "metadata": {},
     "output_type": "execute_result"
    }
   ],
   "source": [
    "students = brs_Soup.find('tbody').find_all('tr')\n",
    "students = {clear_HTML(student.find('a').text): [int(clear_HTML(score.text)) if clear_HTML(score.text) else 0 for score in student.find_all('td', {'class': 'w50 no_mobile'})] for student in students if student.find('a')}\n",
    "students"
   ]
  },
  {
   "cell_type": "markdown",
   "metadata": {},
   "source": [
    "### Берем только нужных людей + добавляем сокращения имен"
   ]
  },
  {
   "cell_type": "code",
   "execution_count": 21,
   "metadata": {},
   "outputs": [
    {
     "data": {
      "text/plain": [
       "{'Ерофеевский Александр Сергеевич': [24, 0, 35, 26, 53, 0, 59, 20],\n",
       " 'Захаров Кирилл Александрович': [23, 0, 33, 26, 49, 0, 57, 20],\n",
       " 'Зотов Максим Дмитриевич': [27, 0, 30, 26, 48, 0, 52, 20],\n",
       " 'Мотылева Екатерина Дмитриевна': [29, 0, 35, 26, 100, 0, 59, 30],\n",
       " 'Соболев Даниил Дмитриевич': [23, 0, 26, 26, 33, 0, 51, 20],\n",
       " 'Спирин Владислав Сергеевич': [27, 0, 25, 26, 100, 0, 49, 10],\n",
       " 'Толдов Кирилл Алексеевич': [21, 0, 30, 0, 20, 0, 52, 10],\n",
       " 'Шульняев Сергей Андреевич': [22, 0, 18, 26, 29, 0, 62, 10]}"
      ]
     },
     "execution_count": 21,
     "metadata": {},
     "output_type": "execute_result"
    }
   ],
   "source": [
    "participants = [\n",
    "    'Ерофеевский Александр Сергеевич', \n",
    "    'Захаров Кирилл Александрович', \n",
    "    'Зотов Максим Дмитриевич', \n",
    "    'Мотылева Екатерина Дмитриевна', \n",
    "    'Соболев Даниил Дмитриевич', \n",
    "    'Спирин Владислав Сергеевич', \n",
    "    'Толдов Кирилл Алексеевич', \n",
    "    'Шульняев Сергей Андреевич'\n",
    "]\n",
    "participants_scores = {student: students[student] for student in students if student in participants}\n",
    "participants_scores"
   ]
  },
  {
   "cell_type": "code",
   "execution_count": 22,
   "metadata": {
    "scrolled": true
   },
   "outputs": [
    {
     "data": {
      "text/plain": [
       "{'Саня': 'Ерофеевский Александр Сергеевич',\n",
       " 'Кирюша': 'Захаров Кирилл Александрович',\n",
       " 'Максибон': 'Зотов Максим Дмитриевич',\n",
       " 'Катя': 'Мотылева Екатерина Дмитриевна',\n",
       " 'Даня': 'Соболев Даниил Дмитриевич',\n",
       " 'Владик': 'Спирин Владислав Сергеевич',\n",
       " 'Кирилл': 'Толдов Кирилл Алексеевич',\n",
       " 'Сергей': 'Шульняев Сергей Андреевич'}"
      ]
     },
     "execution_count": 22,
     "metadata": {},
     "output_type": "execute_result"
    }
   ],
   "source": [
    "participants_nicknames = {\n",
    "    'Ерофеевский Александр Сергеевич': 'Саня', \n",
    "    'Захаров Кирилл Александрович': 'Кирюша', \n",
    "    'Зотов Максим Дмитриевич': 'Максибон',\n",
    "    'Мотылева Екатерина Дмитриевна': 'Катя', \n",
    "    'Соболев Даниил Дмитриевич': 'Даня', \n",
    "    'Спирин Владислав Сергеевич': 'Владик', \n",
    "    'Толдов Кирилл Алексеевич': 'Кирилл', \n",
    "    'Шульняев Сергей Андреевич': 'Сергей'\n",
    "}\n",
    "inverse_participants_nicknames = {short: full for full, short in participants_nicknames.items()}\n",
    "inverse_participants_nicknames"
   ]
  },
  {
   "cell_type": "markdown",
   "metadata": {},
   "source": [
    "### Генерируем текст для сообщения со статистикой по предмету(ам)"
   ]
  },
  {
   "cell_type": "code",
   "execution_count": 23,
   "metadata": {},
   "outputs": [
    {
     "name": "stdout",
     "output_type": "stream",
     "text": [
      "Математический анализ (I,II,III) (Экзамен)\n",
      "Саня: 35\n",
      "Кирюша: 33\n",
      "Максибон: 30\n",
      "Катя: 35\n",
      "Даня: 26\n",
      "Владик: 25\n",
      "Кирилл: 30\n",
      "Сергей: 18\n"
     ]
    }
   ],
   "source": [
    "def one_subject_stats(name):\n",
    "    index = subjects_short.index(name)\n",
    "    text = subjects[name] + '\\n'\n",
    "    for participant in participants_scores:\n",
    "        text += participants_nicknames[participant] + ': ' + str(participants_scores[participant][index]) + '\\n'\n",
    "    return(text[:-1])\n",
    "print(one_subject_stats('МАIII'))"
   ]
  },
  {
   "cell_type": "code",
   "execution_count": 24,
   "metadata": {},
   "outputs": [
    {
     "name": "stdout",
     "output_type": "stream",
     "text": [
      "Статистика по БРС\n",
      "\n",
      "Деловой иностранный язык (Экзамен)\n",
      "Саня: 24\n",
      "Кирюша: 23\n",
      "Максибон: 27\n",
      "Катя: 29\n",
      "Даня: 23\n",
      "Владик: 27\n",
      "Кирилл: 21\n",
      "Сергей: 22\n",
      "\n",
      "Дифференциальные уравнения (Экзамен)\n",
      "Саня: 0\n",
      "Кирюша: 0\n",
      "Максибон: 0\n",
      "Катя: 0\n",
      "Даня: 0\n",
      "Владик: 0\n",
      "Кирилл: 0\n",
      "Сергей: 0\n",
      "\n",
      "Математический анализ (I,II,III) (Экзамен)\n",
      "Саня: 35\n",
      "Кирюша: 33\n",
      "Максибон: 30\n",
      "Катя: 35\n",
      "Даня: 26\n",
      "Владик: 25\n",
      "Кирилл: 30\n",
      "Сергей: 18\n",
      "\n",
      "Операционные системы (дифф.зач.)\n",
      "Саня: 26\n",
      "Кирюша: 26\n",
      "Максибон: 26\n",
      "Катя: 26\n",
      "Даня: 26\n",
      "Владик: 26\n",
      "Кирилл: 0\n",
      "Сергей: 26\n",
      "\n",
      "Социология (Зачет)\n",
      "Саня: 53\n",
      "Кирюша: 49\n",
      "Максибон: 48\n",
      "Катя: 100\n",
      "Даня: 33\n",
      "Владик: 100\n",
      "Кирилл: 20\n",
      "Сергей: 29\n",
      "\n",
      "Физическая культура и спорт (элективная дисциплина) (Зачет)\n",
      "Саня: 0\n",
      "Кирюша: 0\n",
      "Максибон: 0\n",
      "Катя: 0\n",
      "Даня: 0\n",
      "Владик: 0\n",
      "Кирилл: 0\n",
      "Сергей: 0\n",
      "\n",
      "Экономика (дифф.зач.)\n",
      "Саня: 59\n",
      "Кирюша: 57\n",
      "Максибон: 52\n",
      "Катя: 59\n",
      "Даня: 51\n",
      "Владик: 49\n",
      "Кирилл: 52\n",
      "Сергей: 62\n",
      "\n",
      "Языки и методы программирования (Экзамен)\n",
      "Саня: 20\n",
      "Кирюша: 20\n",
      "Максибон: 20\n",
      "Катя: 30\n",
      "Даня: 20\n",
      "Владик: 10\n",
      "Кирилл: 10\n",
      "Сергей: 10\n"
     ]
    }
   ],
   "source": [
    "def all_stats():\n",
    "    text = 'Статистика по БРС' + '\\n\\n'\n",
    "    for subject in subjects_short:\n",
    "            text += one_subject_stats(subject) + '\\n\\n'\n",
    "    return text[:-2]\n",
    "print(all_stats())"
   ]
  },
  {
   "cell_type": "markdown",
   "metadata": {},
   "source": [
    "### Генерируем текст для статистики по человеку"
   ]
  },
  {
   "cell_type": "code",
   "execution_count": 25,
   "metadata": {},
   "outputs": [
    {
     "name": "stdout",
     "output_type": "stream",
     "text": [
      "Саня\n",
      "Деловой иностранный язык (Экзамен): 24\n",
      "Дифференциальные уравнения (Экзамен): 0\n",
      "Математический анализ (I,II,III) (Экзамен): 35\n",
      "Операционные системы (дифф.зач.): 26\n",
      "Социология (Зачет): 53\n",
      "Физическая культура и спорт (элективная дисциплина) (Зачет): 0\n",
      "Экономика (дифф.зач.): 59\n",
      "Языки и методы программирования (Экзамен): 20\n"
     ]
    }
   ],
   "source": [
    "def one_student_stats(name):\n",
    "    full_name = inverse_participants_nicknames[name]\n",
    "    text = name + '\\n'\n",
    "    for i in range(len(participants_scores[full_name])):\n",
    "        text += subjects[subjects_short[i]] + ': ' + str(participants_scores[full_name][i]) + '\\n'\n",
    "    return text[:-1]\n",
    "print(one_student_stats('Саня'))"
   ]
  },
  {
   "cell_type": "code",
   "execution_count": null,
   "metadata": {},
   "outputs": [],
   "source": []
  }
 ],
 "metadata": {
  "kernelspec": {
   "display_name": "Python 3",
   "language": "python",
   "name": "python3"
  },
  "language_info": {
   "codemirror_mode": {
    "name": "ipython",
    "version": 3
   },
   "file_extension": ".py",
   "mimetype": "text/x-python",
   "name": "python",
   "nbconvert_exporter": "python",
   "pygments_lexer": "ipython3",
   "version": "3.7.3"
  }
 },
 "nbformat": 4,
 "nbformat_minor": 2
}
