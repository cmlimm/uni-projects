{
 "cells": [
  {
   "cell_type": "code",
   "execution_count": 1,
   "metadata": {},
   "outputs": [],
   "source": [
    "from sympy import *"
   ]
  },
  {
   "cell_type": "code",
   "execution_count": 2,
   "metadata": {},
   "outputs": [],
   "source": [
    "def halleys_method(function, initial, precision):\n",
    "    x = Symbol('x')\n",
    "    iters = 0\n",
    "    \n",
    "    lfunction = lambdify(x, function, 'numpy')\n",
    "    \n",
    "    dfunction = function.diff(x)\n",
    "    ldfunction = lambdify(x, dfunction, 'numpy')\n",
    "    \n",
    "    d2function = dfunction.diff(x)\n",
    "    ld2function = lambdify(x, d2function, 'numpy')\n",
    "    \n",
    "    while abs(lfunction(initial)) > precision:\n",
    "        t = - lfunction(initial)/ldfunction(initial)\n",
    "        r = ld2function(initial)*t**2/ldfunction(initial)\n",
    "        initial = initial + t**2/(t + 0.5*r)\n",
    "        iters += 1\n",
    "    \n",
    "    residual = lfunction(initial)\n",
    "    return {'root': initial, 'iterations': iters, 'residual': residual}"
   ]
  },
  {
   "cell_type": "code",
   "execution_count": 3,
   "metadata": {},
   "outputs": [
    {
     "data": {
      "text/plain": [
       "{'root': 0.3553270038206912,\n",
       " 'iterations': 3,\n",
       " 'residual': 0.00034933313787899323}"
      ]
     },
     "execution_count": 3,
     "metadata": {},
     "output_type": "execute_result"
    }
   ],
   "source": [
    "x = Symbol('x')\n",
    "func = poly(x**3 + 6*x**2 + 9*x - 4).as_expr()\n",
    "halleys_method(func, 3.6, 0.001)"
   ]
  }
 ],
 "metadata": {
  "kernelspec": {
   "display_name": "Python 3",
   "language": "python",
   "name": "python3"
  },
  "language_info": {
   "codemirror_mode": {
    "name": "ipython",
    "version": 3
   },
   "file_extension": ".py",
   "mimetype": "text/x-python",
   "name": "python",
   "nbconvert_exporter": "python",
   "pygments_lexer": "ipython3",
   "version": "3.7.3"
  }
 },
 "nbformat": 4,
 "nbformat_minor": 4
}
