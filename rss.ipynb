{
 "cells": [
  {
   "cell_type": "code",
   "execution_count": 2,
   "metadata": {},
   "outputs": [],
   "source": [
    "import feedparser\n",
    "from bs4 import BeautifulSoup\n",
    "import re\n",
    "from gensim.summarization import keywords"
   ]
  },
  {
   "cell_type": "code",
   "execution_count": 3,
   "metadata": {},
   "outputs": [
    {
     "data": {
      "text/plain": [
       "'Sat, 02 Nov 2019 00:39:46 +0300'"
      ]
     },
     "execution_count": 3,
     "metadata": {},
     "output_type": "execute_result"
    }
   ],
   "source": [
    "test = feedparser.parse('https://shikimori.one/forum/news.rss')\n",
    "test2 = test['entries']\n",
    "cleanr = re.compile('<.*?>|&([a-z0-9]+|#[0-9]{1,6}|#x[0-9a-f]{1,6});')\n",
    "test2[2].published"
   ]
  },
  {
   "cell_type": "code",
   "execution_count": null,
   "metadata": {},
   "outputs": [],
   "source": [
    "for x in test2:\n",
    "    bs = BeautifulSoup(x.summary).get_text()\n",
    "    print(re.sub('\\.(?=\\w)', '.\\1', bs))\n",
    "    print()"
   ]
  },
  {
   "cell_type": "code",
   "execution_count": null,
   "metadata": {},
   "outputs": [],
   "source": [
    "github = feedparser.parse('https://github.com/cmlimm.private.atom?token=AD6MEE2WRZKT3K3424KCDXV3YWQEW')\n",
    "gitent = github['entries']"
   ]
  },
  {
   "cell_type": "code",
   "execution_count": null,
   "metadata": {},
   "outputs": [],
   "source": [
    "for x in gitent:\n",
    "    cleantext = re.sub(cleanr, '', x.title)\n",
    "    #tt1 = re.sub(' +', ' ', re.sub('[\\n\\t\\r]+', '', cleantext))\n",
    "    print(re.sub('^ ', '', cleantext))\n",
    "    print(x['link'])\n",
    "    print()"
   ]
  },
  {
   "cell_type": "code",
   "execution_count": 7,
   "metadata": {},
   "outputs": [
    {
     "data": {
      "text/plain": [
       "'2019-11-01T15:15:00+00:00'"
      ]
     },
     "execution_count": 7,
     "metadata": {},
     "output_type": "execute_result"
    }
   ],
   "source": [
    "yt = feedparser.parse('https://www.youtube.com/feeds/videos.xml?channel_id=UCU9pX8hKcrx06XfOB-VQLdw')\n",
    "ytent = yt['entries']\n",
    "ytent[1].published"
   ]
  },
  {
   "cell_type": "code",
   "execution_count": null,
   "metadata": {},
   "outputs": [],
   "source": [
    "for x in ytent:\n",
    "    cleantext = re.sub(cleanr, '', x.title)\n",
    "    tt1 = re.sub(' +', ' ', re.sub('[\\n\\t\\r]+', '', cleantext))\n",
    "    print(re.sub('^ ', '', tt1))\n",
    "    print(x['link'])\n",
    "    print()"
   ]
  },
  {
   "cell_type": "code",
   "execution_count": null,
   "metadata": {},
   "outputs": [],
   "source": [
    "testre = re.compile('.+\\..+')\n",
    "print(re.match(testre, 'https://shikimori.one/forum/news.rss'))"
   ]
  },
  {
   "cell_type": "code",
   "execution_count": null,
   "metadata": {},
   "outputs": [],
   "source": [
    "testre1 = re.compile('(У|у)далить ленты \\w+( \\w+)*$')\n",
    "print(re.match(testre1, 'Удалить ленты mom mom mom'))"
   ]
  },
  {
   "cell_type": "code",
   "execution_count": 8,
   "metadata": {},
   "outputs": [
    {
     "data": {
      "text/plain": [
       "'Mon, 04 Nov 2019 10:00:00 +0000'"
      ]
     },
     "execution_count": 8,
     "metadata": {},
     "output_type": "execute_result"
    }
   ],
   "source": [
    "arch = feedparser.parse('http://feeds.feedburner.com/Archdaily?ad_name=footer-links')\n",
    "archent = arch['entries']\n",
    "archent[1].published"
   ]
  },
  {
   "cell_type": "code",
   "execution_count": null,
   "metadata": {},
   "outputs": [],
   "source": [
    "for x in archent:\n",
    "    bs = BeautifulSoup(x.summary).get_text()\n",
    "    cont = BeautifulSoup(x.content[0]['value']).find(\"img\")['src']\n",
    "    print(cont)\n",
    "    print(re.sub('\\.(?=\\w)', '.\\1', bs))\n",
    "    print()"
   ]
  },
  {
   "cell_type": "code",
   "execution_count": null,
   "metadata": {},
   "outputs": [],
   "source": []
  }
 ],
 "metadata": {
  "kernelspec": {
   "display_name": "Python 3",
   "language": "python",
   "name": "python3"
  },
  "language_info": {
   "codemirror_mode": {
    "name": "ipython",
    "version": 3
   },
   "file_extension": ".py",
   "mimetype": "text/x-python",
   "name": "python",
   "nbconvert_exporter": "python",
   "pygments_lexer": "ipython3",
   "version": "3.7.3"
  }
 },
 "nbformat": 4,
 "nbformat_minor": 2
}
