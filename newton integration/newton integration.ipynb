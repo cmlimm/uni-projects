{
 "cells": [
  {
   "cell_type": "code",
   "execution_count": 1,
   "metadata": {},
   "outputs": [],
   "source": [
    "import numpy as np\n",
    "from sympy import *"
   ]
  },
  {
   "cell_type": "code",
   "execution_count": 2,
   "metadata": {},
   "outputs": [],
   "source": [
    "def newton_integration(function, a, b, m):\n",
    "    h = (b - a)/(3*m)\n",
    "    x_values = np.arange(a, b, h)\n",
    "    sum = function(a) + function(x_values[-1]*3)\n",
    "    subsum1 = 0\n",
    "    subsum2 = 0\n",
    "    for i in range(m):\n",
    "        subsum1 += function(x_values[3*i-2]) + function(x_values[3*i-1])\n",
    "        if i != m - 1:\n",
    "            subsum2 += function(x_values[3*i])\n",
    "    sum += 3*subsum1\n",
    "    sum += 2*subsum2\n",
    "    return 3*h/8*sum"
   ]
  },
  {
   "cell_type": "code",
   "execution_count": 3,
   "metadata": {},
   "outputs": [],
   "source": [
    "x = Symbol('x')\n",
    "function = lambdify(x, sin(x), 'numpy')\n",
    "a = 0\n",
    "b = np.pi\n",
    "m = 1000"
   ]
  },
  {
   "cell_type": "code",
   "execution_count": 4,
   "metadata": {},
   "outputs": [
    {
     "name": "stdout",
     "output_type": "stream",
     "text": [
      "Вычисленный интеграл:  1.999995065203693\n",
      "Точное значение: 2.00000000000000\n",
      "Ошибка: 4.93479630692129e-6\n"
     ]
    }
   ],
   "source": [
    "from scipy import integrate\n",
    "exact_integral = -cos(np.pi) + cos(0)\n",
    "newton_integral = newton_integration(function, a, b, m)\n",
    "print('Вычисленный интеграл: ', newton_integral)\n",
    "print('Точное значение:', exact_integral)\n",
    "print('Ошибка:', exact_integral-newton_integral)"
   ]
  }
 ],
 "metadata": {
  "kernelspec": {
   "display_name": "Python 3",
   "language": "python",
   "name": "python3"
  },
  "language_info": {
   "codemirror_mode": {
    "name": "ipython",
    "version": 3
   },
   "file_extension": ".py",
   "mimetype": "text/x-python",
   "name": "python",
   "nbconvert_exporter": "python",
   "pygments_lexer": "ipython3",
   "version": "3.7.3"
  }
 },
 "nbformat": 4,
 "nbformat_minor": 4
}
