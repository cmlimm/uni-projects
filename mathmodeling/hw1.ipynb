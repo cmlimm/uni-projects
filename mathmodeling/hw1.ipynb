{
 "cells": [
  {
   "cell_type": "code",
   "execution_count": 2,
   "metadata": {},
   "outputs": [],
   "source": [
    "import pandas as pd\n",
    "import numpy as np"
   ]
  },
  {
   "cell_type": "code",
   "execution_count": 38,
   "metadata": {},
   "outputs": [
    {
     "data": {
      "text/html": [
       "<div>\n",
       "<style scoped>\n",
       "    .dataframe tbody tr th:only-of-type {\n",
       "        vertical-align: middle;\n",
       "    }\n",
       "\n",
       "    .dataframe tbody tr th {\n",
       "        vertical-align: top;\n",
       "    }\n",
       "\n",
       "    .dataframe thead th {\n",
       "        text-align: right;\n",
       "    }\n",
       "</style>\n",
       "<table border=\"1\" class=\"dataframe\">\n",
       "  <thead>\n",
       "    <tr style=\"text-align: right;\">\n",
       "      <th></th>\n",
       "      <th>Экономика США</th>\n",
       "      <th>Unnamed: 1</th>\n",
       "      <th>Unnamed: 2</th>\n",
       "      <th>Unnamed: 3</th>\n",
       "    </tr>\n",
       "  </thead>\n",
       "  <tbody>\n",
       "    <tr>\n",
       "      <th>0</th>\n",
       "      <td>Год</td>\n",
       "      <td>ВВП(млн.$)</td>\n",
       "      <td>K(млн.$)</td>\n",
       "      <td>L(тыс.чел.)</td>\n",
       "    </tr>\n",
       "    <tr>\n",
       "      <th>1</th>\n",
       "      <td>1936</td>\n",
       "      <td>83278</td>\n",
       "      <td>234236</td>\n",
       "      <td>73426</td>\n",
       "    </tr>\n",
       "    <tr>\n",
       "      <th>2</th>\n",
       "      <td>1937</td>\n",
       "      <td>90884</td>\n",
       "      <td>254890</td>\n",
       "      <td>77568</td>\n",
       "    </tr>\n",
       "    <tr>\n",
       "      <th>3</th>\n",
       "      <td>1938</td>\n",
       "      <td>83743</td>\n",
       "      <td>217606</td>\n",
       "      <td>70460</td>\n",
       "    </tr>\n",
       "    <tr>\n",
       "      <th>4</th>\n",
       "      <td>1939</td>\n",
       "      <td>91530</td>\n",
       "      <td>221746</td>\n",
       "      <td>75131</td>\n",
       "    </tr>\n",
       "    <tr>\n",
       "      <th>5</th>\n",
       "      <td>1940</td>\n",
       "      <td>101313</td>\n",
       "      <td>228757</td>\n",
       "      <td>79694</td>\n",
       "    </tr>\n",
       "    <tr>\n",
       "      <th>6</th>\n",
       "      <td>1941</td>\n",
       "      <td>116415</td>\n",
       "      <td>250238</td>\n",
       "      <td>89276</td>\n",
       "    </tr>\n",
       "    <tr>\n",
       "      <th>7</th>\n",
       "      <td>1942</td>\n",
       "      <td>127434</td>\n",
       "      <td>266469</td>\n",
       "      <td>97056</td>\n",
       "    </tr>\n",
       "    <tr>\n",
       "      <th>8</th>\n",
       "      <td>1943</td>\n",
       "      <td>136274</td>\n",
       "      <td>266154</td>\n",
       "      <td>101633</td>\n",
       "    </tr>\n",
       "    <tr>\n",
       "      <th>9</th>\n",
       "      <td>1944</td>\n",
       "      <td>146470</td>\n",
       "      <td>269520</td>\n",
       "      <td>100124</td>\n",
       "    </tr>\n",
       "    <tr>\n",
       "      <th>10</th>\n",
       "      <td>1945</td>\n",
       "      <td>145052</td>\n",
       "      <td>263098</td>\n",
       "      <td>94920</td>\n",
       "    </tr>\n",
       "    <tr>\n",
       "      <th>11</th>\n",
       "      <td>1946</td>\n",
       "      <td>140288</td>\n",
       "      <td>252357</td>\n",
       "      <td>96671</td>\n",
       "    </tr>\n",
       "    <tr>\n",
       "      <th>12</th>\n",
       "      <td>1947</td>\n",
       "      <td>142022</td>\n",
       "      <td>262536</td>\n",
       "      <td>100072</td>\n",
       "    </tr>\n",
       "    <tr>\n",
       "      <th>13</th>\n",
       "      <td>1948</td>\n",
       "      <td>149895</td>\n",
       "      <td>285700</td>\n",
       "      <td>101304</td>\n",
       "    </tr>\n",
       "    <tr>\n",
       "      <th>14</th>\n",
       "      <td>1949</td>\n",
       "      <td>147122</td>\n",
       "      <td>277522</td>\n",
       "      <td>96784</td>\n",
       "    </tr>\n",
       "    <tr>\n",
       "      <th>15</th>\n",
       "      <td>1950</td>\n",
       "      <td>163620</td>\n",
       "      <td>307946</td>\n",
       "      <td>100352</td>\n",
       "    </tr>\n",
       "  </tbody>\n",
       "</table>\n",
       "</div>"
      ],
      "text/plain": [
       "   Экономика США  Unnamed: 1 Unnamed: 2   Unnamed: 3\n",
       "0            Год  ВВП(млн.$)   K(млн.$)  L(тыс.чел.)\n",
       "1           1936       83278     234236        73426\n",
       "2           1937       90884     254890        77568\n",
       "3           1938       83743     217606        70460\n",
       "4           1939       91530     221746        75131\n",
       "5           1940      101313     228757        79694\n",
       "6           1941      116415     250238        89276\n",
       "7           1942      127434     266469        97056\n",
       "8           1943      136274     266154       101633\n",
       "9           1944      146470     269520       100124\n",
       "10          1945      145052     263098        94920\n",
       "11          1946      140288     252357        96671\n",
       "12          1947      142022     262536       100072\n",
       "13          1948      149895     285700       101304\n",
       "14          1949      147122     277522        96784\n",
       "15          1950      163620     307946       100352"
      ]
     },
     "execution_count": 38,
     "metadata": {},
     "output_type": "execute_result"
    }
   ],
   "source": [
    "# выгружаем данные из Excel\n",
    "dataDF = pd.read_excel('usa.xls')\n",
    "dataDF"
   ]
  },
  {
   "cell_type": "code",
   "execution_count": 39,
   "metadata": {},
   "outputs": [
    {
     "data": {
      "text/html": [
       "<div>\n",
       "<style scoped>\n",
       "    .dataframe tbody tr th:only-of-type {\n",
       "        vertical-align: middle;\n",
       "    }\n",
       "\n",
       "    .dataframe tbody tr th {\n",
       "        vertical-align: top;\n",
       "    }\n",
       "\n",
       "    .dataframe thead th {\n",
       "        text-align: right;\n",
       "    }\n",
       "</style>\n",
       "<table border=\"1\" class=\"dataframe\">\n",
       "  <thead>\n",
       "    <tr style=\"text-align: right;\">\n",
       "      <th></th>\n",
       "      <th>year</th>\n",
       "      <th>gdp</th>\n",
       "      <th>capital</th>\n",
       "      <th>labour</th>\n",
       "    </tr>\n",
       "  </thead>\n",
       "  <tbody>\n",
       "    <tr>\n",
       "      <th>1</th>\n",
       "      <td>1936</td>\n",
       "      <td>83278</td>\n",
       "      <td>234236</td>\n",
       "      <td>73426</td>\n",
       "    </tr>\n",
       "    <tr>\n",
       "      <th>2</th>\n",
       "      <td>1937</td>\n",
       "      <td>90884</td>\n",
       "      <td>254890</td>\n",
       "      <td>77568</td>\n",
       "    </tr>\n",
       "    <tr>\n",
       "      <th>3</th>\n",
       "      <td>1938</td>\n",
       "      <td>83743</td>\n",
       "      <td>217606</td>\n",
       "      <td>70460</td>\n",
       "    </tr>\n",
       "    <tr>\n",
       "      <th>4</th>\n",
       "      <td>1939</td>\n",
       "      <td>91530</td>\n",
       "      <td>221746</td>\n",
       "      <td>75131</td>\n",
       "    </tr>\n",
       "    <tr>\n",
       "      <th>5</th>\n",
       "      <td>1940</td>\n",
       "      <td>101313</td>\n",
       "      <td>228757</td>\n",
       "      <td>79694</td>\n",
       "    </tr>\n",
       "    <tr>\n",
       "      <th>6</th>\n",
       "      <td>1941</td>\n",
       "      <td>116415</td>\n",
       "      <td>250238</td>\n",
       "      <td>89276</td>\n",
       "    </tr>\n",
       "    <tr>\n",
       "      <th>7</th>\n",
       "      <td>1942</td>\n",
       "      <td>127434</td>\n",
       "      <td>266469</td>\n",
       "      <td>97056</td>\n",
       "    </tr>\n",
       "    <tr>\n",
       "      <th>8</th>\n",
       "      <td>1943</td>\n",
       "      <td>136274</td>\n",
       "      <td>266154</td>\n",
       "      <td>101633</td>\n",
       "    </tr>\n",
       "    <tr>\n",
       "      <th>9</th>\n",
       "      <td>1944</td>\n",
       "      <td>146470</td>\n",
       "      <td>269520</td>\n",
       "      <td>100124</td>\n",
       "    </tr>\n",
       "    <tr>\n",
       "      <th>10</th>\n",
       "      <td>1945</td>\n",
       "      <td>145052</td>\n",
       "      <td>263098</td>\n",
       "      <td>94920</td>\n",
       "    </tr>\n",
       "    <tr>\n",
       "      <th>11</th>\n",
       "      <td>1946</td>\n",
       "      <td>140288</td>\n",
       "      <td>252357</td>\n",
       "      <td>96671</td>\n",
       "    </tr>\n",
       "    <tr>\n",
       "      <th>12</th>\n",
       "      <td>1947</td>\n",
       "      <td>142022</td>\n",
       "      <td>262536</td>\n",
       "      <td>100072</td>\n",
       "    </tr>\n",
       "    <tr>\n",
       "      <th>13</th>\n",
       "      <td>1948</td>\n",
       "      <td>149895</td>\n",
       "      <td>285700</td>\n",
       "      <td>101304</td>\n",
       "    </tr>\n",
       "    <tr>\n",
       "      <th>14</th>\n",
       "      <td>1949</td>\n",
       "      <td>147122</td>\n",
       "      <td>277522</td>\n",
       "      <td>96784</td>\n",
       "    </tr>\n",
       "    <tr>\n",
       "      <th>15</th>\n",
       "      <td>1950</td>\n",
       "      <td>163620</td>\n",
       "      <td>307946</td>\n",
       "      <td>100352</td>\n",
       "    </tr>\n",
       "  </tbody>\n",
       "</table>\n",
       "</div>"
      ],
      "text/plain": [
       "    year     gdp capital  labour\n",
       "1   1936   83278  234236   73426\n",
       "2   1937   90884  254890   77568\n",
       "3   1938   83743  217606   70460\n",
       "4   1939   91530  221746   75131\n",
       "5   1940  101313  228757   79694\n",
       "6   1941  116415  250238   89276\n",
       "7   1942  127434  266469   97056\n",
       "8   1943  136274  266154  101633\n",
       "9   1944  146470  269520  100124\n",
       "10  1945  145052  263098   94920\n",
       "11  1946  140288  252357   96671\n",
       "12  1947  142022  262536  100072\n",
       "13  1948  149895  285700  101304\n",
       "14  1949  147122  277522   96784\n",
       "15  1950  163620  307946  100352"
      ]
     },
     "execution_count": 39,
     "metadata": {},
     "output_type": "execute_result"
    }
   ],
   "source": [
    "dataDF = dataDF.rename(columns=dataDF.iloc[0])\n",
    "dataDF = dataDF.rename(columns={'Год': 'year', 'ВВП(млн.$)': 'gdp', 'K(млн.$)': 'capital', 'L(тыс.чел.)': 'labour'})\n",
    "dataDF = dataDF.iloc[1:]\n",
    "dataDF"
   ]
  },
  {
   "cell_type": "code",
   "execution_count": 65,
   "metadata": {},
   "outputs": [],
   "source": [
    "gdp_data = dataDF['gdp'].to_numpy().astype(float)\n",
    "capital_data = dataDF['capital'].to_numpy().astype(float)\n",
    "labour_data = dataDF['labour'].to_numpy().astype(float)"
   ]
  },
  {
   "cell_type": "code",
   "execution_count": 66,
   "metadata": {},
   "outputs": [],
   "source": [
    "log_gdp = np.log(gdp_data)\n",
    "log_capital = np.log(capital_data)\n",
    "log_labour = np.log(labour_data)"
   ]
  },
  {
   "cell_type": "code",
   "execution_count": 67,
   "metadata": {},
   "outputs": [],
   "source": [
    "total_log_gdp = np.sum(log_gdp)\n",
    "total_log_capital = np.sum(log_capital)\n",
    "total_log_labour = np.sum(log_labour)"
   ]
  },
  {
   "cell_type": "code",
   "execution_count": 70,
   "metadata": {},
   "outputs": [],
   "source": [
    "total_log_capital_log_capital = np.sum(log_capital*log_capital)\n",
    "total_log_labour_log_labour = np.sum(log_labour*log_labour)\n",
    "total_log_capital_log_labour = np.sum(log_capital*log_labour)\n",
    "total_log_capital_log_gdp = np.sum(log_capital*log_gdp)\n",
    "total_log_labour_log_gdp = np.sum(log_labour*log_gdp)"
   ]
  },
  {
   "cell_type": "code",
   "execution_count": 72,
   "metadata": {},
   "outputs": [
    {
     "data": {
      "text/plain": [
       "[[15, 186.8032839758341, 171.04056292501437],\n",
       " [186.8032839758341, 2326.4926361199764, 2130.2162554298297],\n",
       " [171.04056292501437, 2130.2162554298297, 1950.5776555960238]]"
      ]
     },
     "execution_count": 72,
     "metadata": {},
     "output_type": "execute_result"
    }
   ],
   "source": [
    "matrix = [[len(gdp_data), total_log_capital, total_log_labour], \n",
    "          [total_log_capital, total_log_capital_log_capital, total_log_capital_log_labour], \n",
    "          [total_log_labour, total_log_capital_log_labour, total_log_labour_log_labour]]\n",
    "matrix"
   ]
  },
  {
   "cell_type": "code",
   "execution_count": 73,
   "metadata": {},
   "outputs": [
    {
     "data": {
      "text/plain": [
       "[175.5924954553971, 2187.0239325882803, 2002.6587950083972]"
      ]
     },
     "execution_count": 73,
     "metadata": {},
     "output_type": "execute_result"
    }
   ],
   "source": [
    "vector = [total_log_gdp, total_log_capital_log_gdp, total_log_labour_log_gdp]\n",
    "vector"
   ]
  },
  {
   "cell_type": "code",
   "execution_count": 75,
   "metadata": {},
   "outputs": [
    {
     "data": {
      "text/plain": [
       "array([[1391.73370365, -158.90775302,   51.50523599],\n",
       "       [-158.90775302,   28.7879861 ,  -17.50505258],\n",
       "       [  51.50523599,  -17.50505258,   14.60134792]])"
      ]
     },
     "execution_count": 75,
     "metadata": {},
     "output_type": "execute_result"
    }
   ],
   "source": [
    "inverse = np.linalg.inv(matrix)\n",
    "inverse"
   ]
  },
  {
   "cell_type": "code",
   "execution_count": 78,
   "metadata": {},
   "outputs": [
    {
     "data": {
      "text/plain": [
       "array([-9.65103581,  0.35816629,  1.48182038])"
      ]
     },
     "execution_count": 78,
     "metadata": {},
     "output_type": "execute_result"
    }
   ],
   "source": [
    "result = np.dot(inverse, vector)\n",
    "result"
   ]
  },
  {
   "cell_type": "code",
   "execution_count": 79,
   "metadata": {},
   "outputs": [],
   "source": [
    "def find_parameters(filename):\n",
    "    dataDF = pd.read_excel('usa.xls')\n",
    "    dataDF = dataDF.rename(columns=dataDF.iloc[0])\n",
    "    dataDF = dataDF.rename(columns={'Год': 'year', 'ВВП(млн.$)': 'gdp', 'K(млн.$)': 'capital', 'L(тыс.чел.)': 'labour'})\n",
    "    dataDF = dataDF.iloc[1:]\n",
    "    \n",
    "    gdp_data = dataDF['gdp'].to_numpy().astype(float)\n",
    "    capital_data = dataDF['capital'].to_numpy().astype(float)\n",
    "    labour_data = dataDF['labour'].to_numpy().astype(float)\n",
    "    \n",
    "    log_gdp = np.log(gdp_data)\n",
    "    log_capital = np.log(capital_data)\n",
    "    log_labour = np.log(labour_data)\n",
    "    \n",
    "    total_log_gdp = np.sum(log_gdp)\n",
    "    total_log_capital = np.sum(log_capital)\n",
    "    total_log_labour = np.sum(log_labour)\n",
    "    \n",
    "    total_log_capital_log_capital = np.sum(log_capital*log_capital)\n",
    "    total_log_labour_log_labour = np.sum(log_labour*log_labour)\n",
    "    total_log_capital_log_labour = np.sum(log_capital*log_labour)\n",
    "    total_log_capital_log_gdp = np.sum(log_capital*log_gdp)\n",
    "    total_log_labour_log_gdp = np.sum(log_labour*log_gdp)\n",
    "    \n",
    "    matrix = [[len(gdp_data), total_log_capital, total_log_labour], \n",
    "              [total_log_capital, total_log_capital_log_capital, total_log_capital_log_labour], \n",
    "              [total_log_labour, total_log_capital_log_labour, total_log_labour_log_labour]]  \n",
    "    vector = [total_log_gdp, total_log_capital_log_gdp, total_log_labour_log_gdp]\n",
    "    inverse = np.linalg.inv(matrix)\n",
    "    \n",
    "    return np.dot(inverse, vector)"
   ]
  },
  {
   "cell_type": "code",
   "execution_count": 80,
   "metadata": {},
   "outputs": [
    {
     "data": {
      "text/plain": [
       "array([-9.65103581,  0.35816629,  1.48182038])"
      ]
     },
     "execution_count": 80,
     "metadata": {},
     "output_type": "execute_result"
    }
   ],
   "source": [
    "find_parameters('usa.xls')"
   ]
  },
  {
   "cell_type": "code",
   "execution_count": null,
   "metadata": {},
   "outputs": [],
   "source": []
  }
 ],
 "metadata": {
  "kernelspec": {
   "display_name": "Python 3",
   "language": "python",
   "name": "python3"
  },
  "language_info": {
   "codemirror_mode": {
    "name": "ipython",
    "version": 3
   },
   "file_extension": ".py",
   "mimetype": "text/x-python",
   "name": "python",
   "nbconvert_exporter": "python",
   "pygments_lexer": "ipython3",
   "version": "3.7.3"
  }
 },
 "nbformat": 4,
 "nbformat_minor": 4
}
