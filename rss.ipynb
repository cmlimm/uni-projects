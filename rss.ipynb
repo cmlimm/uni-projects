{
 "cells": [
  {
   "cell_type": "code",
   "execution_count": 33,
   "metadata": {},
   "outputs": [],
   "source": [
    "import feedparser\n",
    "from bs4 import BeautifulSoup\n",
    "import re\n",
    "from gensim.summarization import keywords"
   ]
  },
  {
   "cell_type": "code",
   "execution_count": 36,
   "metadata": {},
   "outputs": [
    {
     "data": {
      "text/plain": [
       "'Thu, 31 Oct 2019 12:39:24 +0300'"
      ]
     },
     "execution_count": 36,
     "metadata": {},
     "output_type": "execute_result"
    }
   ],
   "source": [
    "test = feedparser.parse('https://shikimori.one/forum/news.rss')\n",
    "test2 = test['entries']\n",
    "cleanr = re.compile('<.*?>|&([a-z0-9]+|#[0-9]{1,6}|#x[0-9a-f]{1,6});')\n",
    "test2[2].published"
   ]
  },
  {
   "cell_type": "code",
   "execution_count": null,
   "metadata": {},
   "outputs": [],
   "source": [
    "for x in test2:\n",
    "    cleantext = re.sub(cleanr, '', x.title)\n",
    "    print(re.sub('\\.(?=\\S)', '\\1', cleantext))\n",
    "    print(x['link'])\n",
    "    print()"
   ]
  },
  {
   "cell_type": "code",
   "execution_count": 34,
   "metadata": {},
   "outputs": [],
   "source": [
    "github = feedparser.parse('https://github.com/cmlimm.private.atom?token=AD6MEE2WRZKT3K3424KCDXV3YWQEW')\n",
    "gitent = github['entries']"
   ]
  },
  {
   "cell_type": "code",
   "execution_count": 35,
   "metadata": {},
   "outputs": [
    {
     "name": "stdout",
     "output_type": "stream",
     "text": [
      "g0stly starred eternnoir/pyTelegramBotAPI\n",
      "https://github.com/eternnoir/pyTelegramBotAPI\n",
      "\n",
      "anafisa starred matveyplevako/pyaterochka-bot\n",
      "https://github.com/matveyplevako/pyaterochka-bot\n",
      "\n",
      "anafisa starred matveyplevako/Operating-System-Course\n",
      "https://github.com/matveyplevako/Operating-System-Course\n",
      "\n",
      "g0stly made g0stly/unecon-lab-assignments public\n",
      "https://github.com/g0stly/unecon-lab-assignments\n",
      "\n",
      "kirill-toldov created a repository kirill-toldov/Clock\n",
      "https://github.com/kirill-toldov/Clock//\n",
      "\n",
      "anafisa created a repository anafisa/News-Bot\n",
      "https://github.com/anafisa/News-Bot//\n",
      "\n",
      "dm-fedorov created a repository dm-fedorov/data-analysis\n",
      "https://github.com/dm-fedorov/data-analysis//\n",
      "\n",
      "anafisa started following arsb29\n",
      "https://github.com/arsb29\n",
      "\n",
      "Nikita-Osipov created a repository Nikita-Osipov/Rss_project\n",
      "https://github.com/Nikita-Osipov/Rss_project//\n",
      "\n",
      "anafisa created a repository anafisa/Coursework1\n",
      "https://github.com/anafisa/Coursework1//\n",
      "\n",
      "whatislove-spirin created a repository whatislove-spirin/perfect_clock_lab\n",
      "https://github.com/whatislove-spirin/perfect_clock_lab//\n",
      "\n",
      "Nikita-Osipov started following AlexandrErofeevsky\n",
      "https://github.com/AlexandrErofeevsky\n",
      "\n",
      "Nikita-Osipov started following cmlimm\n",
      "https://github.com/cmlimm\n",
      "\n",
      "Nikita-Osipov started following dansobolev\n",
      "https://github.com/dansobolev\n",
      "\n",
      "AlexandrErofeevsky started following Nikita-Osipov\n",
      "https://github.com/Nikita-Osipov\n",
      "\n",
      "kirillzx created a repository kirillzx/Agent-based-modeling\n",
      "https://github.com/kirillzx/Agent-based-modeling//\n",
      "\n",
      "anafisa created a repository anafisa/Coursework2\n",
      "https://github.com/anafisa/python_coursework//\n",
      "\n",
      "kirillzx created a repository kirillzx/Math-projects\n",
      "https://github.com/kirillzx/Math-projects//\n",
      "\n",
      "g0stly started following anafisa\n",
      "https://github.com/anafisa\n",
      "\n",
      "kirillzx created a repository kirillzx/Projects\n",
      "https://github.com/kirillzx/Projects//\n",
      "\n",
      "g0stly started following MariaKrepko\n",
      "https://github.com/MariaKrepko\n",
      "\n",
      "AlexandrErofeevsky started following MariaKrepko\n",
      "https://github.com/MariaKrepko\n",
      "\n",
      "AlexandrErofeevsky started following DashaSorokina\n",
      "https://github.com/DashaSorokina\n",
      "\n",
      "anafisa created a repository anafisa/Alarm-clock\n",
      "https://github.com/anafisa/alarm_clock_project//\n",
      "\n",
      "anafisa started following whatislove-spirin\n",
      "https://github.com/whatislove-spirin\n",
      "\n",
      "whatislove-spirin started following anafisa\n",
      "https://github.com/anafisa\n",
      "\n",
      "anafisa started following g0stly\n",
      "https://github.com/g0stly\n",
      "\n",
      "g0stly started following anafisa\n",
      "https://github.com/anafisa\n",
      "\n",
      "kirill-toldov started following AlexandrErofeevsky\n",
      "https://github.com/AlexandrErofeevsky\n",
      "\n",
      "kirillzx started following dm-fedorov\n",
      "https://github.com/dm-fedorov\n",
      "\n"
     ]
    }
   ],
   "source": [
    "for x in gitent:\n",
    "    cleantext = re.sub(cleanr, '', x.title)\n",
    "    #tt1 = re.sub(' +', ' ', re.sub('[\\n\\t\\r]+', '', cleantext))\n",
    "    print(re.sub('^ ', '', cleantext))\n",
    "    print(x['link'])\n",
    "    print()"
   ]
  },
  {
   "cell_type": "code",
   "execution_count": 30,
   "metadata": {},
   "outputs": [
    {
     "data": {
      "text/plain": [
       "'2019-10-26T13:20:18+00:00'"
      ]
     },
     "execution_count": 30,
     "metadata": {},
     "output_type": "execute_result"
    }
   ],
   "source": [
    "yt = feedparser.parse('https://www.youtube.com/feeds/videos.xml?channel_id=UCU9pX8hKcrx06XfOB-VQLdw')\n",
    "ytent = yt['entries']\n",
    "ytent[2].published"
   ]
  },
  {
   "cell_type": "code",
   "execution_count": 29,
   "metadata": {},
   "outputs": [
    {
     "name": "stdout",
     "output_type": "stream",
     "text": [
      "HERMITCRAFT IS LIVE NOW\n",
      "https://www.youtube.com/watch?v=jUk3cFZS03g\n",
      "\n",
      "Minecraft 1.15 Snapshot 19w44a The Hoglin, Stackable Honey Bottles! & Crazy Evoker Fangs\n",
      "https://www.youtube.com/watch?v=vcF1MVYSloM\n",
      "\n",
      "Hermitcraft VI 863 Scamming Tango & IDEA's First Diamonds!\n",
      "https://www.youtube.com/watch?v=Z5BjpJRmuEk\n",
      "\n",
      "Minecraft : The Evolution Of My Minecraft Bases\n",
      "https://www.youtube.com/watch?v=bpm-YTucLrA\n",
      "\n",
      "Hermitcraft VI 862 Preparing For My Demise!\n",
      "https://www.youtube.com/watch?v=oJjNvxhmj1s\n",
      "\n",
      "Hermitcraft VI 861 Demise & The IDEA Shop Opening!\n",
      "https://www.youtube.com/watch?v=R4QvKMafOF8\n",
      "\n",
      "Minecraft 1.15 Snapshot 19w42a Honey Blocks & Slime Blocks Don't Stick!\n",
      "https://www.youtube.com/watch?v=xIYF_dlfM44\n",
      "\n",
      "Hermitcraft VI 860 Diamonds For Obsidian!\n",
      "https://www.youtube.com/watch?v=vBSM5rCsbf4\n",
      "\n",
      "Hermitcraft VI 859 Chorus Flower Farming & Custom Map Creation!\n",
      "https://www.youtube.com/watch?v=OzNSd6GbXCg\n",
      "\n",
      "Minecraft 1.15 Snapshot 19w41a Honey Block! Honeycomb Block! Cracked Iron Golems & More!\n",
      "https://www.youtube.com/watch?v=p6dSvB1rleQ\n",
      "\n",
      "Hermitcraft VI 858 Stocking Up IDEA & Treasure Hunt!\n",
      "https://www.youtube.com/watch?v=Evf3uJNxSTA\n",
      "\n",
      "Minecraft 1.15 Snapshot 19w40a The Bees Holiday Update!\n",
      "https://www.youtube.com/watch?v=1xZuRr3L_kM\n",
      "\n",
      "Minecraft 1.15 Snapshot 19w39a Blaze 3D Rendering & Free Cape For Bedrock!\n",
      "https://www.youtube.com/watch?v=H5OEzQQfcOg\n",
      "\n",
      "Minecraft 1.16 News : Nether Update! Piglin Beasts, Soulsand Valley & Netherwart Forests\n",
      "https://www.youtube.com/watch?v=kMWs_ndOB6o\n",
      "\n",
      "Hermitcraft VI 857 Answering 99 Questions About Hermitcraft!\n",
      "https://www.youtube.com/watch?v=uGLbVzo97qI\n",
      "\n"
     ]
    }
   ],
   "source": [
    "for x in ytent:\n",
    "    cleantext = re.sub(cleanr, '', x.title)\n",
    "    tt1 = re.sub(' +', ' ', re.sub('[\\n\\t\\r]+', '', cleantext))\n",
    "    print(re.sub('^ ', '', tt1))\n",
    "    print(x['link'])\n",
    "    print()"
   ]
  },
  {
   "cell_type": "code",
   "execution_count": null,
   "metadata": {},
   "outputs": [],
   "source": [
    "testre = re.compile('.+\\..+')\n",
    "print(re.match(testre, 'https://shikimori.one/forum/news.rss'))"
   ]
  },
  {
   "cell_type": "code",
   "execution_count": null,
   "metadata": {},
   "outputs": [],
   "source": [
    "testre1 = re.compile('(У|у)далить ленты \\w+( \\w+)*$')\n",
    "print(re.match(testre1, 'Удалить ленты mom mom mom'))"
   ]
  },
  {
   "cell_type": "code",
   "execution_count": null,
   "metadata": {},
   "outputs": [],
   "source": []
  }
 ],
 "metadata": {
  "kernelspec": {
   "display_name": "Python 3",
   "language": "python",
   "name": "python3"
  },
  "language_info": {
   "codemirror_mode": {
    "name": "ipython",
    "version": 3
   },
   "file_extension": ".py",
   "mimetype": "text/x-python",
   "name": "python",
   "nbconvert_exporter": "python",
   "pygments_lexer": "ipython3",
   "version": "3.7.3"
  }
 },
 "nbformat": 4,
 "nbformat_minor": 2
}
