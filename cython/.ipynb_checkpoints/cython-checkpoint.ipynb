{
 "cells": [
  {
   "cell_type": "code",
   "execution_count": 114,
   "metadata": {},
   "outputs": [],
   "source": [
    "from random import randint"
   ]
  },
  {
   "cell_type": "code",
   "execution_count": 3,
   "metadata": {},
   "outputs": [],
   "source": [
    "def BFS(graph, start):\n",
    "    vert = range(len(graph))\n",
    "    added = [False]*len(graph) # для проверки посещаемости\n",
    "    queue = [start]\n",
    "    added[start] = True\n",
    "    result = [start] # модификация чтобы легче было возвращать пройденные вершины\n",
    "    while queue != []:\n",
    "        node = queue[0]\n",
    "        del queue[0]\n",
    "        children = []\n",
    "        for n in vert:\n",
    "            if graph[node][n] != 0: # если элемент в матрице не 0, то это сосед данной вершины\n",
    "                children.append(n)\n",
    "        for child in children: # смотрим на непройденных соседей\n",
    "            if not added[child]:\n",
    "                queue.append(child)\n",
    "                added[child] = True\n",
    "                result.append(child)\n",
    "    return result\n",
    "\n",
    "def component(graph):\n",
    "    components = []\n",
    "    not_seen = list(range(len(graph))) # не найденные еще вершины\n",
    "    while not_seen != []:\n",
    "        current = not_seen[0]\n",
    "        seen = BFS(graph, current) # ищем вершины\n",
    "        components.append(seen) # добавляем новую компоненту\n",
    "        for node in seen: # убираем вершины которые нашли\n",
    "            not_seen.remove(node)\n",
    "    return components"
   ]
  },
  {
   "cell_type": "code",
   "execution_count": 113,
   "metadata": {},
   "outputs": [],
   "source": [
    "def adjacency_matrix(n):\n",
    "    matrix = [[0]*n for _ in range(n)]\n",
    "    for row in range(n):\n",
    "        for column in range(row, n):\n",
    "            if column != row:\n",
    "                if randint(0,1) == 1:\n",
    "                    matrix[row][column], matrix[column][row] = 1, 1\n",
    "    return matrix"
   ]
  },
  {
   "cell_type": "code",
   "execution_count": null,
   "metadata": {},
   "outputs": [],
   "source": [
    "def random_split(matrix):\n",
    "    position = randint(0, n-1)\n",
    "    for row in range(position):\n",
    "        matrix[row][position] = [0]*(n-position) "
   ]
  },
  {
   "cell_type": "code",
   "execution_count": 106,
   "metadata": {},
   "outputs": [
    {
     "data": {
      "text/plain": [
       "[[0, 0, 1, 0, 1, 0, 1, 0, 0, 0],\n",
       " [0, 0, 0, 0, 0, 1, 1, 0, 0, 1],\n",
       " [1, 0, 0, 0, 1, 0, 0, 0, 0, 1],\n",
       " [0, 0, 0, 0, 0, 1, 0, 0, 1, 0],\n",
       " [1, 0, 1, 0, 0, 0, 1, 1, 1, 0],\n",
       " [0, 1, 0, 1, 0, 0, 0, 1, 0, 0],\n",
       " [1, 1, 0, 0, 1, 0, 0, 0, 0, 0],\n",
       " [0, 0, 0, 0, 1, 1, 0, 0, 0, 0],\n",
       " [0, 0, 0, 1, 1, 0, 0, 0, 0, 0],\n",
       " [0, 1, 1, 0, 0, 0, 0, 0, 0, 0]]"
      ]
     },
     "execution_count": 106,
     "metadata": {},
     "output_type": "execute_result"
    }
   ],
   "source": [
    "graph = adjacency_matrix(10)\n",
    "graph = random_split(graph)\n",
    "component(graph)\n",
    "graph"
   ]
  },
  {
   "cell_type": "code",
   "execution_count": 43,
   "metadata": {},
   "outputs": [
    {
     "data": {
      "text/plain": [
       "[[0, 1, 2], [3, 4]]"
      ]
     },
     "execution_count": 43,
     "metadata": {},
     "output_type": "execute_result"
    }
   ],
   "source": [
    "gr = [[0,1,1,0,0],\n",
    "      [1,0,0,0,0],\n",
    "      [1,0,0,0,0],\n",
    "      [0,0,0,0,1],\n",
    "      [0,0,0,1,0]]\n",
    "component(gr)"
   ]
  },
  {
   "cell_type": "code",
   "execution_count": 112,
   "metadata": {},
   "outputs": [
    {
     "data": {
      "text/plain": [
       "[4, 1, 2]"
      ]
     },
     "execution_count": 112,
     "metadata": {},
     "output_type": "execute_result"
    }
   ],
   "source": [
    "sample([1,2,3,4,5], 3)"
   ]
  },
  {
   "cell_type": "code",
   "execution_count": 115,
   "metadata": {},
   "outputs": [],
   "source": [
    "test = [[1,2,3],\n",
    "        [4,5,6],\n",
    "        [7,8,9]]\n",
    "test[0][1:]=[0,0]"
   ]
  },
  {
   "cell_type": "code",
   "execution_count": null,
   "metadata": {},
   "outputs": [],
   "source": []
  }
 ],
 "metadata": {
  "kernelspec": {
   "display_name": "Python 3",
   "language": "python",
   "name": "python3"
  },
  "language_info": {
   "codemirror_mode": {
    "name": "ipython",
    "version": 3
   },
   "file_extension": ".py",
   "mimetype": "text/x-python",
   "name": "python",
   "nbconvert_exporter": "python",
   "pygments_lexer": "ipython3",
   "version": "3.7.3"
  }
 },
 "nbformat": 4,
 "nbformat_minor": 4
}
