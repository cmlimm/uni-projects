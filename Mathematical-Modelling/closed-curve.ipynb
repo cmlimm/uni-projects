{
 "cells": [
  {
   "cell_type": "code",
   "execution_count": 1,
   "metadata": {},
   "outputs": [],
   "source": [
    "import numpy as np\n",
    "import matplotlib.pyplot as plt\n",
    "from matplotlib.collections import LineCollection\n",
    "from matplotlib.colors import ListedColormap, BoundaryNorm\n",
    "import random"
   ]
  },
  {
   "cell_type": "code",
   "execution_count": 2,
   "metadata": {},
   "outputs": [],
   "source": [
    "plt.rcParams[\"figure.figsize\"] = (8,6)"
   ]
  },
  {
   "cell_type": "code",
   "execution_count": 3,
   "metadata": {},
   "outputs": [],
   "source": [
    "def make_segments(x, y):\n",
    "    '''\n",
    "    Create list of line segments from x and y coordinates, in the correct format for LineCollection:\n",
    "    an array of the form   numlines x (points per line) x 2 (x and y) array\n",
    "    '''\n",
    "\n",
    "    points = np.array([x, y]).T.reshape(-1, 1, 2)\n",
    "    segments = np.concatenate([points[:-1], points[1:]], axis=1)\n",
    "    \n",
    "    return segments\n",
    "\n",
    "\n",
    "# Interface to LineCollection:\n",
    "\n",
    "def colorline(x, y, z=None, cmap=plt.get_cmap('copper'), norm=plt.Normalize(0.0, 1.0), linewidth=3, alpha=1.0):\n",
    "    '''\n",
    "    Plot a colored line with coordinates x and y\n",
    "    Optionally specify colors in the array z\n",
    "    Optionally specify a colormap, a norm function and a line width\n",
    "    '''\n",
    "    \n",
    "    # Default colors equally spaced on [0,1]:\n",
    "    if z is None:\n",
    "        z = np.linspace(0.0, 1.0, len(x))\n",
    "           \n",
    "    # Special case if a single number:\n",
    "    if not hasattr(z, \"__iter__\"):  # to check for numerical input -- this is a hack\n",
    "        z = np.array([z])\n",
    "        \n",
    "    z = np.asarray(z)\n",
    "    \n",
    "    segments = make_segments(x, y)\n",
    "    lc = LineCollection(segments, array=z, cmap=cmap, norm=norm, linewidth=linewidth, alpha=alpha)\n",
    "    \n",
    "    ax = plt.gca()\n",
    "    ax.add_collection(lc)\n",
    "    \n",
    "    return lc\n",
    "        \n",
    "    \n",
    "def clear_frame(ax=None): \n",
    "    # Taken from a post by Tony S Yu\n",
    "    if ax is None: \n",
    "        ax = plt.gca() \n",
    "    ax.xaxis.set_visible(False) \n",
    "    ax.yaxis.set_visible(False) \n",
    "    for spine in ax.spines.itervalues(): \n",
    "        spine.set_visible(False) "
   ]
  },
  {
   "cell_type": "code",
   "execution_count": 20,
   "metadata": {},
   "outputs": [],
   "source": [
    "def competing_species_function(r, phi):\n",
    "    return (r*(1-r*r), 1)"
   ]
  },
  {
   "cell_type": "code",
   "execution_count": 21,
   "metadata": {},
   "outputs": [],
   "source": [
    "def runge_kutta(iterations, initial, step):\n",
    "    r_val = [initial[0]]\n",
    "    phi_val = [initial[1]]\n",
    "    t_val = [0]\n",
    "    for i in range(round(iterations/step)):\n",
    "        r1, phi1 = competing_species_function(r_val[-1], phi_val[-1])\n",
    "        r2, phi2 = competing_species_function(r_val[-1]+step*r1/2, phi_val[-1]+step*phi1/2)\n",
    "        r3, phi3 = competing_species_function(r_val[-1]+step*r2/2, phi_val[-1]+step*phi2/2)\n",
    "        r4, phi4 = competing_species_function(r_val[-1]+step*r3, phi_val[-1]+step*phi3)\n",
    "        \n",
    "        r_val.append(r_val[-1]+step*(r1+2*r2+2*r3+r4)/6)\n",
    "        phi_val.append(phi_val[-1]+step*(phi1+2*phi2+2*phi3+phi4)/6)\n",
    "        t_val.append(t_val[-1]+step)\n",
    "    return t_val, r_val, phi_val"
   ]
  },
  {
   "cell_type": "code",
   "execution_count": 94,
   "metadata": {},
   "outputs": [],
   "source": [
    "iterations = 10000\n",
    "initial1 = (0.01, 0.01)\n",
    "initial2 = (1.5, 1.5)\n",
    "step = 0.1"
   ]
  },
  {
   "cell_type": "code",
   "execution_count": 95,
   "metadata": {},
   "outputs": [],
   "source": [
    "t_val1, r_val1, phi_val1 = runge_kutta(iterations, initial1, step)\n",
    "t_val2, r_val2, phi_val2 = runge_kutta(iterations, initial2, step)"
   ]
  },
  {
   "cell_type": "code",
   "execution_count": 96,
   "metadata": {},
   "outputs": [],
   "source": [
    "x11 = r_val1*np.cos(phi_val1)\n",
    "x21 = r_val1*np.sin(phi_val1)\n",
    "x12 = r_val2*np.cos(phi_val2)\n",
    "x22 = r_val2*np.sin(phi_val2)"
   ]
  },
  {
   "cell_type": "code",
   "execution_count": 97,
   "metadata": {},
   "outputs": [
    {
     "data": {
      "text/plain": [
       "[<matplotlib.lines.Line2D at 0x1183fe748>]"
      ]
     },
     "execution_count": 97,
     "metadata": {},
     "output_type": "execute_result"
    },
    {
     "data": {
      "image/png": "[encoded data removed]",
      "text/plain": [
       "<Figure size 576x432 with 1 Axes>"
      ]
     },
     "metadata": {
      "needs_background": "light"
     },
     "output_type": "display_data"
    }
   ],
   "source": [
    "plt.plot(x11, x21)\n",
    "plt.plot(x12, x22)"
   ]
  },
  {
   "cell_type": "code",
   "execution_count": null,
   "metadata": {},
   "outputs": [],
   "source": []
  }
 ],
 "metadata": {
  "kernelspec": {
   "display_name": "Python 3",
   "language": "python",
   "name": "python3"
  },
  "language_info": {
   "codemirror_mode": {
    "name": "ipython",
    "version": 3
   },
   "file_extension": ".py",
   "mimetype": "text/x-python",
   "name": "python",
   "nbconvert_exporter": "python",
   "pygments_lexer": "ipython3",
   "version": "3.7.3"
  }
 },
 "nbformat": 4,
 "nbformat_minor": 4
}
