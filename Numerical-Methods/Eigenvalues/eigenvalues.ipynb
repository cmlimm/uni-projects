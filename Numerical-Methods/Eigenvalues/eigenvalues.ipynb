{
 "cells": [
  {
   "cell_type": "code",
   "execution_count": 1,
   "metadata": {},
   "outputs": [],
   "source": [
    "from sympy import *"
   ]
  },
  {
   "cell_type": "code",
   "execution_count": 2,
   "metadata": {},
   "outputs": [],
   "source": [
    "def build_polynomial(matrix, iter):\n",
    "    x = Symbol('x')\n",
    "    if iter == -1:\n",
    "        return 1\n",
    "    if iter == 0:\n",
    "        return poly(matrix[1][1] - x)\n",
    "    return poly(\n",
    "        (matrix[iter][iter] - x)*build_polynomial(matrix, iter - 1) - \n",
    "        matrix[iter - 1][iter]*matrix[iter][iter - 1]*build_polynomial(matrix, iter - 2))"
   ]
  },
  {
   "cell_type": "code",
   "execution_count": 3,
   "metadata": {},
   "outputs": [],
   "source": [
    "def halleys_method(function, initial, precision):\n",
    "    x = Symbol('x')\n",
    "    iters = 0\n",
    "    \n",
    "    lfunction = lambdify(x, function, 'numpy')\n",
    "    \n",
    "    dfunction = function.diff(x)\n",
    "    ldfunction = lambdify(x, dfunction, 'numpy')\n",
    "    \n",
    "    d2function = dfunction.diff(x)\n",
    "    ld2function = lambdify(x, d2function, 'numpy')\n",
    "    \n",
    "    while abs(lfunction(initial)) > precision:\n",
    "        t = - lfunction(initial)/ldfunction(initial)\n",
    "        r = ld2function(initial)*t**2/ldfunction(initial)\n",
    "        initial = initial + t**2/(t + 0.5*r)\n",
    "        iters += 1\n",
    "    \n",
    "    residual = lfunction(initial)\n",
    "    return {'root': initial, 'iterations': iters, 'residual': residual}"
   ]
  },
  {
   "cell_type": "code",
   "execution_count": 4,
   "metadata": {},
   "outputs": [],
   "source": [
    "def eigenvalues(matrix, initial, precision):\n",
    "    x = Symbol('x')\n",
    "    eigenvalues = {'value':[], 'residual':[]}\n",
    "    n = len(matrix)\n",
    "    polynomial = build_polynomial(matrix, n-1)\n",
    "    for _ in range(n):\n",
    "        root = halleys_method(polynomial.as_expr(), initial, precision)\n",
    "        eigenvalues['value'].append(root['root'])\n",
    "        eigenvalues['residual'].append(root['residual'])\n",
    "        polynomial = pquo(polynomial, poly(x - root['root']))\n",
    "    return eigenvalues"
   ]
  },
  {
   "cell_type": "code",
   "execution_count": 5,
   "metadata": {},
   "outputs": [],
   "source": [
    "matrix = [[1, 2, 0, 0],\n",
    "          [3, 1, 2, 0],\n",
    "          [0, 3, 1, 2],\n",
    "          [0, 0, 3, 2]]\n",
    "initial = 0\n",
    "precision = 0.001"
   ]
  },
  {
   "cell_type": "code",
   "execution_count": 6,
   "metadata": {},
   "outputs": [
    {
     "data": {
      "text/plain": [
       "{'value': [-0.1881911215025469,\n",
       "  2.8998266041121847,\n",
       "  -2.8518950613854894,\n",
       "  5.14025957877585],\n",
       " 'residual': [8.34833535634516e-09,\n",
       "  1.497466683986204e-08,\n",
       "  -7.894759500359783e-06,\n",
       "  0.0]}"
      ]
     },
     "execution_count": 6,
     "metadata": {},
     "output_type": "execute_result"
    }
   ],
   "source": [
    "# результат написанного алгоритма с невязкой для каждого значения\n",
    "eigenvalues(matrix, initial, precision)"
   ]
  },
  {
   "cell_type": "code",
   "execution_count": 7,
   "metadata": {},
   "outputs": [
    {
     "data": {
      "text/plain": [
       "array([-2.85189605, -0.18819112,  5.14026057,  2.89982661])"
      ]
     },
     "execution_count": 7,
     "metadata": {},
     "output_type": "execute_result"
    }
   ],
   "source": [
    "import numpy\n",
    "# результат встроенной функции\n",
    "numpy.linalg.eigvals(numpy.array(matrix))"
   ]
  }
 ],
 "metadata": {
  "kernelspec": {
   "display_name": "Python 3",
   "language": "python",
   "name": "python3"
  },
  "language_info": {
   "codemirror_mode": {
    "name": "ipython",
    "version": 3
   },
   "file_extension": ".py",
   "mimetype": "text/x-python",
   "name": "python",
   "nbconvert_exporter": "python",
   "pygments_lexer": "ipython3",
   "version": "3.7.3"
  }
 },
 "nbformat": 4,
 "nbformat_minor": 4
}
